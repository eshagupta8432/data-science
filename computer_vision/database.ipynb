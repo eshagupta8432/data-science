{
 "cells": [
  {
   "cell_type": "markdown",
   "metadata": {},
   "source": [
    "step 1- setup  the database and its table"
   ]
  },
  {
   "cell_type": "code",
   "execution_count": 34,
   "metadata": {},
   "outputs": [],
   "source": [
    "from sqlalchemy import create_engine\n",
    "from sqlalchemy.orm import sessionmaker,declarative_base\n",
    "from sqlalchemy import Column,Integer,String,Boolean"
   ]
  },
  {
   "cell_type": "code",
   "execution_count": 35,
   "metadata": {},
   "outputs": [],
   "source": [
    "base=declarative_base()\n"
   ]
  },
  {
   "cell_type": "code",
   "execution_count": 36,
   "metadata": {},
   "outputs": [],
   "source": [
    "class Report (base):\n",
    "    __tablename__=\"reports\"\n",
    "    id=Column(Integer, primary_key=True)\n",
    "    name=Column(String(25))\n",
    "    eng=Column(Integer)\n",
    "    maths=Column(Integer)\n",
    "    science=Column(Integer)\n",
    "    hindi=Column(Integer)\n",
    "    is_passed=Column(Boolean)\n"
   ]
  },
  {
   "cell_type": "code",
   "execution_count": 37,
   "metadata": {},
   "outputs": [],
   "source": [
    "engine=create_engine(\"sqlite:///school.db\")\n",
    "base.metadata.create_all(engine)"
   ]
  },
  {
   "cell_type": "markdown",
   "metadata": {},
   "source": [
    "step-2- creating a connection"
   ]
  },
  {
   "cell_type": "code",
   "execution_count": 38,
   "metadata": {},
   "outputs": [],
   "source": [
    "def opendb():\n",
    "    engine=create_engine(\"sqlite:///school.db\")\n",
    "    Session=sessionmaker(bind=engine)\n",
    "    session=Session()\n",
    "    return session"
   ]
  },
  {
   "cell_type": "markdown",
   "metadata": {},
   "source": [
    "step-3 adding data"
   ]
  },
  {
   "cell_type": "code",
   "execution_count": 39,
   "metadata": {},
   "outputs": [
    {
     "name": "stdout",
     "output_type": "stream",
     "text": [
      "done\n"
     ]
    }
   ],
   "source": [
    "name=input(\"enter name\")\n",
    "eng=int(input(\"enter\"))\n",
    "maths=int(input(\"enter\"))\n",
    "science=int(input(\"enter\"))\n",
    "hindi=int(input(\"enter\"))\n",
    "total=eng+science+maths+hindi\n",
    "per=total/400*100\n",
    "is_passed=per>=33\n",
    "\n",
    "db=opendb()\n",
    "report=Report(name=name,eng=eng,science=science,maths=maths,hindi=hindi, is_passed=is_passed)\n",
    "db.add(report)\n",
    "db.commit()\n",
    "db.close()\n",
    "\n",
    "print(\"done\")"
   ]
  },
  {
   "cell_type": "markdown",
   "metadata": {},
   "source": [
    "step-4 retreving data"
   ]
  },
  {
   "cell_type": "code",
   "execution_count": 40,
   "metadata": {},
   "outputs": [
    {
     "name": "stdout",
     "output_type": "stream",
     "text": [
      "esha\n",
      "100,90,99,98\n",
      "passed\n",
      "ravi\n",
      "22,13,42,1\n",
      "failed\n",
      "eshan \n",
      "45,67,77,55\n",
      "passed\n"
     ]
    }
   ],
   "source": [
    "db=opendb()\n",
    "reports=db.query(Report).all()\n",
    "db.close()\n",
    "\n",
    "\n",
    "for item in reports:\n",
    "    print(item.name)\n",
    "    print(f\"{item.eng},{item.maths},{item.science},{item.hindi}\")\n",
    "    print(\"passed\" if item.is_passed else \"failed\")"
   ]
  },
  {
   "cell_type": "markdown",
   "metadata": {},
   "source": [
    "step -5 removing data"
   ]
  },
  {
   "cell_type": "code",
   "execution_count": 41,
   "metadata": {},
   "outputs": [
    {
     "name": "stdout",
     "output_type": "stream",
     "text": [
      "DONE😊\n"
     ]
    }
   ],
   "source": [
    "id=2\n",
    "db=opendb()\n",
    "report =db.query(Report).filter(Report.id==id).delete()\n",
    "db.commit()\n",
    "db.close()\n",
    "print(\"DONE😊\")"
   ]
  },
  {
   "cell_type": "markdown",
   "metadata": {},
   "source": [
    "STEP-6 searching data"
   ]
  },
  {
   "cell_type": "code",
   "execution_count": 42,
   "metadata": {},
   "outputs": [
    {
     "name": "stdout",
     "output_type": "stream",
     "text": [
      "1 esha True\n",
      "3 ravi False\n",
      "4 eshan  True\n"
     ]
    }
   ],
   "source": [
    "eng_marks=10\n",
    "db=opendb()\n",
    "reports=db.query(Report).filter(Report.eng>=eng_marks).all()\n",
    "db.close()\n",
    "for item in reports:\n",
    "    print(f\"{item.id} {item.name} {item.is_passed}\")"
   ]
  },
  {
   "cell_type": "code",
   "execution_count": 43,
   "metadata": {},
   "outputs": [
    {
     "name": "stdout",
     "output_type": "stream",
     "text": [
      "1 esha True\n"
     ]
    }
   ],
   "source": [
    "hindi_marks=80\n",
    "db=opendb()\n",
    "reports=db.query(Report).filter(Report.hindi>=hindi_marks).all()\n",
    "db.close()\n",
    "for item in reports:\n",
    "    print(f\"{item.id} {item.name} {item.is_passed}\")"
   ]
  },
  {
   "cell_type": "code",
   "execution_count": 44,
   "metadata": {},
   "outputs": [
    {
     "name": "stdout",
     "output_type": "stream",
     "text": [
      "details not found\n"
     ]
    }
   ],
   "source": [
    "id=2\n",
    "db=opendb()\n",
    "reports=db.query(Report).filter(Report.id==id).first()\n",
    "db.close()\n",
    "if report:\n",
    "    print(report.name,report.is_passed)\n",
    "else:\n",
    "    print(\"details not found\")"
   ]
  },
  {
   "cell_type": "markdown",
   "metadata": {},
   "source": [
    "step-7 updating data"
   ]
  },
  {
   "cell_type": "code",
   "execution_count": 48,
   "metadata": {},
   "outputs": [],
   "source": [
    "id=5\n",
    "db=opendb()\n",
    "report=db.query(Report).filter(Report.id==id).first()\n",
    "if report:\n",
    "    report.eng=60\n",
    "    report.maths=60\n",
    "    report.science=60\n",
    "    report.hindi=60\n",
    "    report.is_passed=True\n",
    "    db.commit()\n",
    "    db.close()\n",
    "    "
   ]
  },
  {
   "cell_type": "code",
   "execution_count": null,
   "metadata": {},
   "outputs": [],
   "source": []
  }
 ],
 "metadata": {
  "kernelspec": {
   "display_name": "base",
   "language": "python",
   "name": "python3"
  },
  "language_info": {
   "codemirror_mode": {
    "name": "ipython",
    "version": 3
   },
   "file_extension": ".py",
   "mimetype": "text/x-python",
   "name": "python",
   "nbconvert_exporter": "python",
   "pygments_lexer": "ipython3",
   "version": "3.12.4"
  }
 },
 "nbformat": 4,
 "nbformat_minor": 2
}
