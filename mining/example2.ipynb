{
 "cells": [
  {
   "cell_type": "code",
   "execution_count": 6,
   "metadata": {},
   "outputs": [],
   "source": [
    "from dputils.scrape import Scraper, Tag"
   ]
  },
  {
   "cell_type": "code",
   "execution_count": 9,
   "metadata": {},
   "outputs": [],
   "source": [
    "url=\"https://www.flipkart.com/mivi-duopods-k5-tws-earbuds-metallic-finish-hd-calling-ai-enc-50h-playtime-5-3-bluetooth-gaming/p/itm54660b2405aa7?pid=ACCGZKGZMZGFZGTM&lid=LSTACCGZKGZMZGFZGTMZEH0LK&marketplace=FLIPKART&store=0pm%2Ffcn&srno=b_1_6&otracker=browse&fm=organic&iid=en_wXWcFTtKh_3zHB_PqRQMEBp0qL8SU7hqoBGVCMBQ4o3chF6HqhdxLSzgTRQZBzTp9QW5pa1eziXyeGAbr5xXC33Gaq_wzx4HJysDmGalzMk%3D&ppt=browse&ppn=browse\"\n",
    "sc=Scraper(url)"
   ]
  },
  {
   "cell_type": "code",
   "execution_count": 10,
   "metadata": {},
   "outputs": [
    {
     "data": {
      "text/plain": [
       "\"  Mivi DuoPods K5 TWS Earbuds Metallic Finish, HD calling, AI ENC, 50H playtime,5.3 Bluetooth Gaming Price in India - Buy Mivi DuoPods K5 TWS Earbuds Metallic Finish, HD calling, AI ENC, 50H playtime,5.3 Bluetooth Gaming Online - Mivi : Flipkart.com       Explore PlusLoginBecome a Seller More CartAdd to cart Buy NowHomeAudio & VideoHeadsetEarphonesWireless EarphonesTrue WirelessMivi True WirelessMivi DuoPods K5 TWS Earbuds Metallic Finish, HD calling, AI ENC, 50H playtime,5.3 Bluetooth Gaming (Raven Black, True Wireless)\\nCompareShareMivi DuoPods K5 TWS Earbuds Metallic Finish, HD calling, AI ENC, 50H playtime,5.3 Bluetooth Gaming\\xa0\\xa0(Raven Black, True Wireless)3.927,744 Ratings\\xa0&\\xa02,728 ReviewsSpecial price₹999₹3,99975% offiAvailable offersBank Offer5% Unlimited Cashback on Flipkart Axis Bank Credit CardT&CSpecial PriceGet extra 28% off (price inclusive of cashback/coupon)T&CBuy together get 3% OFFT&CBuy together get 3% OFFT&CView 3 more offers1 Year Manufacturing WarrantyKnow MoreDeliveryCheckEnter pincodeCurrently out of stock in this area.ColorCobalt BlueCoral PlushIvory SheenLush GreenRaven BlackPlease select a Color to proceed✕HighlightsWith Mic:YesBattery life: 50HrsBluetooth version: 5.3Wireless range: 10 m13 mm DriversDual Mic - Artificial Intelligence enabled ENC (Environmental Noise Cancellation) for HD call claritySwift charging | 10 mins charge = 500 mins playtime | Type-C cableGaming mode -Triple Tap Left earbud to activate low latency modeVoice assistance -Triple Tap Right earbud to activateServices1 Year Manufacturing WarrantySellerMPDSLERetail47 Days Replacement Policy?GST invoice available?See other sellersDescriptionThe Mivi Duopods K5 is a powerful and stylish earphone that offers several impressive features. It includes an AI-driven Environmental Noise Cancellation technology that ensures crystal-clear HD calling without any background noise. Additionally, it provides an uninterrupted playtime of 50 hours and features a 13mm bass driver to enhance the music listening experience. The earphone's metallic design is eye-catching and impressive. Furthermore, it comes with a one-year warranty.Read MoreSpecificationsGeneralModel IDTEDPK5-RBColorRaven BlackHeadphone TypeTrue WirelessInline RemoteNoSales Package1 Pair of Earbuds, Charging Case, USB Type C Charging Cable, Quick Start Guide, Warranty CardConnectivityBluetoothHeadphone DesignEarbudCompatible DevicesGaming Console, Laptop, Mobile, DesktopProduct DetailsDeep BassYesWith MicrophoneYesConnectivity FeaturesPlay Time24 hrWarrantyDomestic Warranty1 YearWarranty Summary1 Year Manufacturing WarrantyWarranty Service Typesupport@mivi.in 8099973333Covered in WarrantyManufacturing DefectsNot Covered in WarrantyPhysical DamagesRead MoreRatings & ReviewsRate Product3.9★27,744 Ratings &2,728 Reviews5★4★3★2★1★15,1284,8952,4861,4023,8333.8Sound Quality3.8Bass3.9Design & Build3.8Battery Backup+ 9344Really NiceNice product 😃READ MOREFlipkart CustomerCertified Buyer, NelamangalaMay, 20237533PermalinkReport Abuse5Fabulous!The product is really good to be purchased. There are many things to be liked about, but only two things are bad. While charging it takes an effort to insert the cable just because of the hole which is given and same is the case while taking it out. Also the sync pair is not available which can be negligible for some people. Leaving all these issues, these earbuds are great.READ MORERaghav ShivhareCertified Buyer, IndoreMay, 2023255119PermalinkReport Abuse4Nice productALL very good but Noise Cancellation Very Bad 😔READ MORERohit  YadavCertified Buyer, PrayagrajMay, 2023155PermalinkReport Abuse4Good quality productThis tws is very good looking and very primium build quality . It has very rich bass and hd sound . It provides 50+ hrs of battery backup with case . I liked it very much .READ MOREKunal KumarCertified Buyer, SindriMay, 2023145PermalinkReport Abuse5TerrificLoved itREAD MOREFlipkart CustomerCertified Buyer, Bhopal11 months ago8441PermalinkReport Abuse5Perfect product!Nice productREAD MORESreekuttan  SreeCertified Buyer, PorathisseryMay, 20233917PermalinkReport Abuse5BrilliantNice product and bass is good 👍🏻Good one. i choose black colour 😍READ MOREAnandhu GopalCertified Buyer, Kollam DistrictMay, 2023196PermalinkReport Abuse3Decent productBass is very high not too much good heavy sound 😔😔. Earphone sound should fair and like flow of air according to music or any other types of sound.READ MORETazim AnwarCertified Buyer, Rohtas DistrictMay, 20234122PermalinkReport Abuse5Classy productIn this prise range this is absolutely best productSound quality is amazing and build quality is really osm❤️Thnxxx mivi teamREAD MOREDipiyan  SinghCertified Buyer, LucknowMay, 20232510PermalinkReport Abuse5Perfect product!Best duopods i love it💓READ MOREFlipkart CustomerCertified Buyer, Bara Banki DistrictMay, 2023143PermalinkReport Abuse+All 2728 reviewsQuestions and AnswersQ:Is it touch operatorA:Yes fully touch operateJaypalsinh ParmarCertified Buyer8135Report AbuseQ:It'is best for gamingA:YesAnonymousCertified Buyer7038Report AbuseQ:This are voice assistant?A:YesFlipkart CustomerCertified Buyer4739Report AbuseQ:Battery backup Kaisa haiA:6 hours non stop use and 50 hours with boxSandip MandalCertified Buyer116Report AbuseQ:Is the calling quality good?A:Yes good but this product is very bad after 10 days. A big problem is automatically disconnected from your device.AnonymousCertified Buyer62Report AbuseQ:Outdoor calling experience?A:AverageFlipkart CustomerCertified Buyer84Report AbuseQ:Mivi Or boat \\nSounds qualityA:BoatAnonymousCertified Buyer20Report AbuseQ:Is clear voice during on call?A:NoAnonymousCertified Buyer52Report AbuseRead other answersQ:It have finger sensorA:YesFlipkart CustomerCertified Buyer21Report AbuseQ:Is this Device have Dule connection?A:YesMohd Imran AhmedCertified Buyer21Report AbuseAll questions+Safe and Secure Payments.Easy returns.100% Authentic products.Top Stories:Brand DirectoryMOST SEARCHED IN Audio & Video:INTEX HOME THEATER 2.1 PRICESPEAKERIPOD PRICESPHILIPS IPODONLINE MP3 PLAYERDVD PLAYERSF&D HOME THEATERYEPME INDIACHROMECAST 2SAMSUNG TV PRICE LISTHOME THEATRESONY HOME THEATREAUDIO TECHNICA HEADPHONESPHILIPS HEADPHONESENNHEISER HEADPHONESWIRELESS HEADPHONEBEST IN EAR HEADPHONES INDIASAMSUNG EARPHONESSKULLCANDY HEADPHONES WITH MICPORTABLE SPEAKERPORTABLE DVD PLAYERPHILIPS WIRELESS SPEAKERSACER TABLET PRICEINTEX TABLETSONY SBH20ABOUTContact UsAbout UsCareersFlipkart StoriesPressCorporate InformationGROUP COMPANIESMyntraCleartripShopsyHELPPaymentsShippingCancellation & ReturnsFAQReport InfringementCONSUMER POLICYCancellation & ReturnsTerms Of UseSecurityPrivacySitemapGrievance RedressalEPR ComplianceMail Us:Flipkart Internet Private Limited, \\n Buildings Alyssa, Begonia & \\n Clove Embassy Tech Village, \\n Outer Ring Road, Devarabeesanahalli Village, \\n Bengaluru, 560103, \\n Karnataka, India\\nSocialRegistered Office Address:Flipkart Internet Private Limited, \\n Buildings Alyssa, Begonia & \\n Clove Embassy Tech Village, \\n Outer Ring Road, Devarabeesanahalli Village, \\n Bengaluru, 560103, \\n Karnataka, India \\n CIN : U51109KA2012PTC066107 \\n Telephone: 044-45614700 / 044-67415800\\nBecome a SellerAdvertiseGift CardsHelp Center© 2007-2024 Flipkart.comBack to top    \\n\""
      ]
     },
     "execution_count": 10,
     "metadata": {},
     "output_type": "execute_result"
    }
   ],
   "source": [
    "sc.soup.text"
   ]
  },
  {
   "cell_type": "code",
   "execution_count": 18,
   "metadata": {},
   "outputs": [
    {
     "data": {
      "text/plain": [
       "{'title': 'Mivi DuoPods K5 TWS Earbuds Metallic Finish, HD calling, AI ENC, 50H playtime,5.3 Bluetooth Gaming\\xa0\\xa0(Raven Black, True Wireless)',\n",
       " 'image': 'https://rukminim2.flixcart.com/image/416/416/xif0q/headphone/m/r/d/-original-imagpk2fny6qnzev.jpeg?q=70&crop=false',\n",
       " 'rating': '3.9',\n",
       " 'dis': '75% off',\n",
       " 'price': '₹999'}"
      ]
     },
     "execution_count": 18,
     "metadata": {},
     "output_type": "execute_result"
    }
   ],
   "source": [
    "title=Tag(\"h1\")\n",
    "price=Tag(\"div\",cls=\"Nx9bqj CxhGGd\")\n",
    "dis=Tag(\"div\",cls=\"UkUFwK WW8yVX\")\n",
    "image=Tag(\"img\",cls=\"DByuf4 IZexXJ jLEJ7H\",output=\"src\")\n",
    "rating=Tag(\"div\",cls=\"XQDdHH\")\n",
    "sc.get_data_from_page(title=title,image=image, rating=rating,dis=dis, price=price)"
   ]
  },
  {
   "cell_type": "code",
   "execution_count": null,
   "metadata": {},
   "outputs": [],
   "source": []
  },
  {
   "cell_type": "code",
   "execution_count": null,
   "metadata": {},
   "outputs": [],
   "source": []
  }
 ],
 "metadata": {
  "kernelspec": {
   "display_name": "base",
   "language": "python",
   "name": "python3"
  },
  "language_info": {
   "codemirror_mode": {
    "name": "ipython",
    "version": 3
   },
   "file_extension": ".py",
   "mimetype": "text/x-python",
   "name": "python",
   "nbconvert_exporter": "python",
   "pygments_lexer": "ipython3",
   "version": "3.12.4"
  }
 },
 "nbformat": 4,
 "nbformat_minor": 2
}
