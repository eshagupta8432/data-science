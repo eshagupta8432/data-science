{
 "cells": [
  {
   "cell_type": "code",
   "execution_count": 1,
   "metadata": {},
   "outputs": [],
   "source": [
    "import numpy as np"
   ]
  },
  {
   "cell_type": "code",
   "execution_count": 3,
   "metadata": {},
   "outputs": [
    {
     "name": "stdout",
     "output_type": "stream",
     "text": [
      "10\n"
     ]
    }
   ],
   "source": [
    "x=[[1,2],[3,4]]\n",
    "s=0\n",
    "for i in x:\n",
    "    s+=sum(i)\n",
    "print(s)"
   ]
  },
  {
   "cell_type": "code",
   "execution_count": 5,
   "metadata": {},
   "outputs": [
    {
     "name": "stdout",
     "output_type": "stream",
     "text": [
      "10\n",
      "1\n",
      "4\n"
     ]
    }
   ],
   "source": [
    "nx=np.array(x)\n",
    "print(nx.sum())\n",
    "print(nx.min())\n",
    "print(nx.max())"
   ]
  },
  {
   "cell_type": "code",
   "execution_count": 6,
   "metadata": {},
   "outputs": [
    {
     "data": {
      "text/plain": [
       "numpy.ndarray"
      ]
     },
     "execution_count": 6,
     "metadata": {},
     "output_type": "execute_result"
    }
   ],
   "source": [
    "type(nx)"
   ]
  },
  {
   "cell_type": "code",
   "execution_count": 8,
   "metadata": {},
   "outputs": [
    {
     "name": "stdout",
     "output_type": "stream",
     "text": [
      "(2, 2)\n",
      "4\n",
      "int64\n"
     ]
    }
   ],
   "source": [
    "print(nx.shape)\n",
    "print(nx.size)\n",
    "print(nx.dtype)"
   ]
  },
  {
   "cell_type": "code",
   "execution_count": 9,
   "metadata": {},
   "outputs": [],
   "source": [
    "a=[[1,2,7],[3,4,5],[6,7,4]]\n",
    "na=np.array(a)\n"
   ]
  },
  {
   "cell_type": "markdown",
   "metadata": {},
   "source": [
    "## function to create matrix\n",
    "- arange: create a range of numbers\n",
    "- linespace: create a matrix of specified number of elements\n",
    "- ones\n",
    "- zeros\n",
    "- random.randint: create a matrix of random integers\n",
    "- random.rand: create a matrix of random floats\n",
    "- diag"
   ]
  },
  {
   "cell_type": "code",
   "execution_count": 16,
   "metadata": {},
   "outputs": [
    {
     "name": "stdout",
     "output_type": "stream",
     "text": [
      "[ 1  2  3  4  5  6  7  8  9 10 11 12 13 14 15 16 17 18 19 20 21 22 23 24\n",
      " 25 26 27 28 29 30 31 32 33 34 35 36 37 38 39]\n",
      "150\n"
     ]
    }
   ],
   "source": [
    "a=np.arange(1,40)\n",
    "print(a)\n",
    "\n",
    "b=np.arange(1,4,.02).size\n",
    "print(b)\n"
   ]
  },
  {
   "cell_type": "code",
   "execution_count": 17,
   "metadata": {},
   "outputs": [
    {
     "data": {
      "text/plain": [
       "array([ 2.        ,  4.44444444,  6.88888889,  9.33333333, 11.77777778,\n",
       "       14.22222222, 16.66666667, 19.11111111, 21.55555556, 24.        ])"
      ]
     },
     "execution_count": 17,
     "metadata": {},
     "output_type": "execute_result"
    }
   ],
   "source": [
    "np.linspace(2,24,10)"
   ]
  },
  {
   "cell_type": "code",
   "execution_count": 18,
   "metadata": {},
   "outputs": [
    {
     "data": {
      "text/plain": [
       "array([[1., 1.],\n",
       "       [1., 1.]])"
      ]
     },
     "execution_count": 18,
     "metadata": {},
     "output_type": "execute_result"
    }
   ],
   "source": [
    "np.ones([2,2])"
   ]
  },
  {
   "cell_type": "code",
   "execution_count": 26,
   "metadata": {},
   "outputs": [],
   "source": [
    "np.ones([4,4]).dtype=int"
   ]
  },
  {
   "cell_type": "code",
   "execution_count": 24,
   "metadata": {},
   "outputs": [
    {
     "data": {
      "text/plain": [
       "array([[0., 0.],\n",
       "       [0., 0.]])"
      ]
     },
     "execution_count": 24,
     "metadata": {},
     "output_type": "execute_result"
    }
   ],
   "source": [
    "np.zeros([2,2])"
   ]
  },
  {
   "cell_type": "code",
   "execution_count": 28,
   "metadata": {},
   "outputs": [
    {
     "data": {
      "text/plain": [
       "array([16, 81, 90, 83, 97], dtype=int32)"
      ]
     },
     "execution_count": 28,
     "metadata": {},
     "output_type": "execute_result"
    }
   ],
   "source": [
    "np.random.randint(1,100,5)"
   ]
  },
  {
   "cell_type": "code",
   "execution_count": 32,
   "metadata": {},
   "outputs": [
    {
     "data": {
      "text/plain": [
       "array([[[2, 2, 2, 2, 2],\n",
       "        [2, 2, 2, 2, 2],\n",
       "        [2, 2, 2, 2, 2],\n",
       "        [2, 2, 2, 2, 2],\n",
       "        [2, 2, 2, 2, 2]],\n",
       "\n",
       "       [[2, 2, 2, 2, 2],\n",
       "        [2, 2, 2, 2, 2],\n",
       "        [2, 2, 2, 2, 2],\n",
       "        [2, 2, 2, 2, 2],\n",
       "        [2, 2, 2, 2, 2]],\n",
       "\n",
       "       [[2, 2, 2, 2, 2],\n",
       "        [2, 2, 2, 2, 2],\n",
       "        [2, 2, 2, 2, 2],\n",
       "        [2, 2, 2, 2, 2],\n",
       "        [2, 2, 2, 2, 2]],\n",
       "\n",
       "       [[2, 2, 2, 2, 2],\n",
       "        [2, 2, 2, 2, 2],\n",
       "        [2, 2, 2, 2, 2],\n",
       "        [2, 2, 2, 2, 2],\n",
       "        [2, 2, 2, 2, 2]],\n",
       "\n",
       "       [[2, 2, 2, 2, 2],\n",
       "        [2, 2, 2, 2, 2],\n",
       "        [2, 2, 2, 2, 2],\n",
       "        [2, 2, 2, 2, 2],\n",
       "        [2, 2, 2, 2, 2]]], dtype=int32)"
      ]
     },
     "execution_count": 32,
     "metadata": {},
     "output_type": "execute_result"
    }
   ],
   "source": [
    "np.random.randint(2,3,(5,5,5))"
   ]
  },
  {
   "cell_type": "code",
   "execution_count": 33,
   "metadata": {},
   "outputs": [
    {
     "data": {
      "text/plain": [
       "array([[[0.09997034, 0.94731077],\n",
       "        [0.80922913, 0.84099201],\n",
       "        [0.79440664, 0.72220321],\n",
       "        [0.10462284, 0.99680758],\n",
       "        [0.37195062, 0.65767319],\n",
       "        [0.0465829 , 0.91192577],\n",
       "        [0.04956588, 0.69728321],\n",
       "        [0.13706402, 0.49615725],\n",
       "        [0.96946126, 0.81723685],\n",
       "        [0.0110201 , 0.48347649]]])"
      ]
     },
     "execution_count": 33,
     "metadata": {},
     "output_type": "execute_result"
    }
   ],
   "source": [
    "np.random.rand(1,10,2)"
   ]
  },
  {
   "cell_type": "code",
   "execution_count": 35,
   "metadata": {},
   "outputs": [
    {
     "data": {
      "text/plain": [
       "array([[0.173, 0.14 , 0.801, 0.655, 0.584],\n",
       "       [0.746, 0.716, 0.429, 0.314, 0.044],\n",
       "       [0.772, 0.154, 0.816, 0.472, 0.441],\n",
       "       [0.037, 0.456, 0.477, 0.379, 0.374],\n",
       "       [0.921, 0.099, 0.059, 0.398, 0.581],\n",
       "       [0.129, 0.366, 0.565, 0.79 , 0.672],\n",
       "       [0.194, 0.329, 0.202, 0.307, 0.857],\n",
       "       [0.613, 0.589, 0.269, 0.189, 0.285],\n",
       "       [0.358, 0.852, 0.55 , 0.804, 0.14 ],\n",
       "       [0.016, 0.775, 0.116, 0.766, 0.766]])"
      ]
     },
     "execution_count": 35,
     "metadata": {},
     "output_type": "execute_result"
    }
   ],
   "source": [
    "np.set_printoptions(precision=3)\n",
    "np.random.rand(10,5)"
   ]
  },
  {
   "cell_type": "code",
   "execution_count": 36,
   "metadata": {},
   "outputs": [
    {
     "data": {
      "text/plain": [
       "array([[1, 0, 0, 0, 0],\n",
       "       [0, 2, 0, 0, 0],\n",
       "       [0, 0, 3, 0, 0],\n",
       "       [0, 0, 0, 4, 0],\n",
       "       [0, 0, 0, 0, 5]])"
      ]
     },
     "execution_count": 36,
     "metadata": {},
     "output_type": "execute_result"
    }
   ],
   "source": [
    "x=[1,2,3,4,5]\n",
    "np.diag(x)"
   ]
  },
  {
   "cell_type": "code",
   "execution_count": 40,
   "metadata": {},
   "outputs": [
    {
     "data": {
      "text/plain": [
       "array([[0, 1],\n",
       "       [2, 3],\n",
       "       [4, 5],\n",
       "       [6, 7],\n",
       "       [8, 9]])"
      ]
     },
     "execution_count": 40,
     "metadata": {},
     "output_type": "execute_result"
    }
   ],
   "source": [
    "# reshape\n",
    "np.arange(10).reshape(5,2)"
   ]
  },
  {
   "cell_type": "code",
   "execution_count": 43,
   "metadata": {},
   "outputs": [],
   "source": [
    "a=np.linspace(1,5,25).reshape(5,5)"
   ]
  },
  {
   "cell_type": "code",
   "execution_count": 44,
   "metadata": {},
   "outputs": [
    {
     "data": {
      "text/plain": [
       "array([1.   , 1.167, 1.333, 1.5  , 1.667, 1.833, 2.   , 2.167, 2.333,\n",
       "       2.5  , 2.667, 2.833, 3.   , 3.167, 3.333, 3.5  , 3.667, 3.833,\n",
       "       4.   , 4.167, 4.333, 4.5  , 4.667, 4.833, 5.   ])"
      ]
     },
     "execution_count": 44,
     "metadata": {},
     "output_type": "execute_result"
    }
   ],
   "source": [
    "a.flatten()"
   ]
  },
  {
   "cell_type": "code",
   "execution_count": 45,
   "metadata": {},
   "outputs": [
    {
     "data": {
      "text/plain": [
       "array([[1.   , 1.833, 2.667, 3.5  , 4.333],\n",
       "       [1.167, 2.   , 2.833, 3.667, 4.5  ],\n",
       "       [1.333, 2.167, 3.   , 3.833, 4.667],\n",
       "       [1.5  , 2.333, 3.167, 4.   , 4.833],\n",
       "       [1.667, 2.5  , 3.333, 4.167, 5.   ]])"
      ]
     },
     "execution_count": 45,
     "metadata": {},
     "output_type": "execute_result"
    }
   ],
   "source": [
    "a.transpose()"
   ]
  },
  {
   "cell_type": "code",
   "execution_count": 48,
   "metadata": {},
   "outputs": [
    {
     "name": "stdout",
     "output_type": "stream",
     "text": [
      "[[9 3 7]\n",
      " [2 1 6]\n",
      " [3 8 3]]\n",
      "[[3 9 5]\n",
      " [6 8 7]\n",
      " [6 3 4]]\n"
     ]
    }
   ],
   "source": [
    "a=np.random.randint(1,10,(3,3))\n",
    "b=np.random.randint(1,10,(3,3))\n",
    "print(a)\n",
    "print(b)"
   ]
  },
  {
   "cell_type": "code",
   "execution_count": 47,
   "metadata": {},
   "outputs": [
    {
     "data": {
      "text/plain": [
       "array([[ 6,  9, 11],\n",
       "       [ 7,  9, 10],\n",
       "       [11, 10,  8]], dtype=int32)"
      ]
     },
     "execution_count": 47,
     "metadata": {},
     "output_type": "execute_result"
    }
   ],
   "source": [
    "a+b"
   ]
  },
  {
   "cell_type": "code",
   "execution_count": 49,
   "metadata": {},
   "outputs": [
    {
     "data": {
      "text/plain": [
       "array([[27, 27, 35],\n",
       "       [12,  8, 42],\n",
       "       [18, 24, 12]], dtype=int32)"
      ]
     },
     "execution_count": 49,
     "metadata": {},
     "output_type": "execute_result"
    }
   ],
   "source": [
    "a*b"
   ]
  },
  {
   "cell_type": "code",
   "execution_count": 50,
   "metadata": {},
   "outputs": [
    {
     "data": {
      "text/plain": [
       "array([[ 6, -6,  2],\n",
       "       [-4, -7, -1],\n",
       "       [-3,  5, -1]], dtype=int32)"
      ]
     },
     "execution_count": 50,
     "metadata": {},
     "output_type": "execute_result"
    }
   ],
   "source": [
    "a-b"
   ]
  },
  {
   "cell_type": "code",
   "execution_count": 51,
   "metadata": {},
   "outputs": [
    {
     "data": {
      "text/plain": [
       "array([[ 87, 126,  94],\n",
       "       [ 48,  44,  41],\n",
       "       [ 75, 100,  83]], dtype=int32)"
      ]
     },
     "execution_count": 51,
     "metadata": {},
     "output_type": "execute_result"
    }
   ],
   "source": [
    "a.dot(b) #matrix multiplication"
   ]
  },
  {
   "cell_type": "code",
   "execution_count": 52,
   "metadata": {},
   "outputs": [
    {
     "data": {
      "text/plain": [
       "array([[19, 13, 17],\n",
       "       [12, 11, 16],\n",
       "       [13, 18, 13]], dtype=int32)"
      ]
     },
     "execution_count": 52,
     "metadata": {},
     "output_type": "execute_result"
    }
   ],
   "source": [
    "a+10"
   ]
  },
  {
   "cell_type": "markdown",
   "metadata": {},
   "source": [
    "### stats"
   ]
  },
  {
   "cell_type": "code",
   "execution_count": 53,
   "metadata": {},
   "outputs": [
    {
     "name": "stdout",
     "output_type": "stream",
     "text": [
      "4.666666666666667\n"
     ]
    }
   ],
   "source": [
    "print(a.mean())"
   ]
  },
  {
   "cell_type": "code",
   "execution_count": 54,
   "metadata": {},
   "outputs": [
    {
     "name": "stdout",
     "output_type": "stream",
     "text": [
      "[4.667 4.    5.333]\n",
      "[6.333 3.    4.667]\n"
     ]
    }
   ],
   "source": [
    "print(a.mean(axis=0))\n",
    "print(a.mean(axis=1))"
   ]
  },
  {
   "cell_type": "code",
   "execution_count": 55,
   "metadata": {},
   "outputs": [
    {
     "name": "stdout",
     "output_type": "stream",
     "text": [
      "42\n",
      "[14 12 16]\n",
      "[19  9 14]\n"
     ]
    }
   ],
   "source": [
    "print(a.sum())\n",
    "print(a.sum(axis=0))   # column wise\n",
    "print(a.sum(axis=1))   # row wise mean "
   ]
  },
  {
   "cell_type": "code",
   "execution_count": 56,
   "metadata": {},
   "outputs": [
    {
     "data": {
      "text/plain": [
       "array([[ 0.412,  0.141,  0.657],\n",
       "       [ 0.909,  0.841, -0.279],\n",
       "       [ 0.141,  0.989,  0.141]])"
      ]
     },
     "execution_count": 56,
     "metadata": {},
     "output_type": "execute_result"
    }
   ],
   "source": [
    "np.sin(a)"
   ]
  },
  {
   "cell_type": "code",
   "execution_count": 57,
   "metadata": {},
   "outputs": [
    {
     "data": {
      "text/plain": [
       "array([[-0.99 , -0.911,  0.284],\n",
       "       [ 0.96 , -0.146,  0.754],\n",
       "       [ 0.96 , -0.99 , -0.654]])"
      ]
     },
     "execution_count": 57,
     "metadata": {},
     "output_type": "execute_result"
    }
   ],
   "source": [
    "np.cos(b)"
   ]
  },
  {
   "cell_type": "code",
   "execution_count": 58,
   "metadata": {},
   "outputs": [
    {
     "name": "stdout",
     "output_type": "stream",
     "text": [
      "[[8.103e+03 2.009e+01 1.097e+03]\n",
      " [7.389e+00 2.718e+00 4.034e+02]\n",
      " [2.009e+01 2.981e+03 2.009e+01]]\n",
      "[[81  9 49]\n",
      " [ 4  1 36]\n",
      " [ 9 64  9]]\n",
      "[[3.    1.732 2.646]\n",
      " [1.414 1.    2.449]\n",
      " [1.732 2.828 1.732]]\n"
     ]
    }
   ],
   "source": [
    "print(np.exp(a))\n",
    "print(np.square(a))\n",
    "print(np.sqrt(a))"
   ]
  },
  {
   "cell_type": "code",
   "execution_count": 59,
   "metadata": {},
   "outputs": [
    {
     "name": "stdout",
     "output_type": "stream",
     "text": [
      "[[12 29 63]\n",
      " [ 4 96 11]\n",
      " [19 18 41]]\n"
     ]
    }
   ],
   "source": [
    "c=np.random.randint(1,100,(3,3))\n",
    "print(c)"
   ]
  },
  {
   "cell_type": "code",
   "execution_count": 61,
   "metadata": {},
   "outputs": [
    {
     "name": "stdout",
     "output_type": "stream",
     "text": [
      "96\n",
      "4\n",
      "4\n",
      "3\n"
     ]
    }
   ],
   "source": [
    "print(c.max())\n",
    "print(c.argmax())\n",
    "print(c.min())\n",
    "print(c.argmin())"
   ]
  },
  {
   "cell_type": "code",
   "execution_count": null,
   "metadata": {},
   "outputs": [],
   "source": []
  }
 ],
 "metadata": {
  "kernelspec": {
   "display_name": "base",
   "language": "python",
   "name": "python3"
  },
  "language_info": {
   "codemirror_mode": {
    "name": "ipython",
    "version": 3
   },
   "file_extension": ".py",
   "mimetype": "text/x-python",
   "name": "python",
   "nbconvert_exporter": "python",
   "pygments_lexer": "ipython3",
   "version": "3.12.4"
  }
 },
 "nbformat": 4,
 "nbformat_minor": 2
}
