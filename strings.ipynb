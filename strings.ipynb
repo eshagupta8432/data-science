{
 "cells": [
  {
   "cell_type": "markdown",
   "metadata": {},
   "source": [
    "# string\n",
    "- creation\n",
    "- indexing\n",
    "- slicing\n",
    "- methods"
   ]
  },
  {
   "cell_type": "code",
   "execution_count": 3,
   "metadata": {},
   "outputs": [
    {
     "name": "stdout",
     "output_type": "stream",
     "text": [
      "  esha so it is used for multiline string exmample\n",
      "  esha hello\n",
      "  good morning\n",
      "  \n"
     ]
    }
   ],
   "source": [
    "# creation\n",
    "a=\" \"\n",
    "n=\"esha\"\n",
    "message=\"\"\"so it is used for multiline string exmample\n",
    "  esha hello\n",
    "  good morning\n",
    "  \"\"\"\n",
    "print(a,n,message)"
   ]
  },
  {
   "cell_type": "code",
   "execution_count": 6,
   "metadata": {},
   "outputs": [
    {
     "name": "stdout",
     "output_type": "stream",
     "text": [
      ">>>>>!!!!<<<<<<  >>>>>!!!!<<<<<<  >>>>>!!!!<<<<<<  >>>>>!!!!<<<<<<  >>>>>!!!!<<<<<<  >>>>>!!!!<<<<<<  >>>>>!!!!<<<<<<  >>>>>!!!!<<<<<<  >>>>>!!!!<<<<<<  >>>>>!!!!<<<<<<  \n"
     ]
    }
   ],
   "source": [
    "# string duplication\n",
    "d=\">>>>>!!!!<<<<<<  \"\n",
    "print(d*10)"
   ]
  },
  {
   "cell_type": "code",
   "execution_count": 4,
   "metadata": {},
   "outputs": [
    {
     "name": "stdout",
     "output_type": "stream",
     "text": [
      "22.33\n",
      "25362536\n"
     ]
    }
   ],
   "source": [
    "# casting\n",
    "a=str(22.33)\n",
    "b=str(25362536)\n",
    "print(a)\n",
    "print(b)"
   ]
  },
  {
   "cell_type": "code",
   "execution_count": 8,
   "metadata": {},
   "outputs": [
    {
     "name": "stdout",
     "output_type": "stream",
     "text": [
      "duegryegyeygfjgerguier => 22\n"
     ]
    }
   ],
   "source": [
    "e=\"duegryegyeygfjgerguier\"\n",
    "print(f\"{e} => {len(e)}\")"
   ]
  },
  {
   "cell_type": "markdown",
   "metadata": {},
   "source": [
    "## slicing\n",
    "\n",
    "- var[start: stop]\n",
    "- var[start: stop: step]\n",
    "- var[:stop ]\n",
    "- var[ start:]"
   ]
  },
  {
   "cell_type": "code",
   "execution_count": 11,
   "metadata": {},
   "outputs": [
    {
     "name": "stdout",
     "output_type": "stream",
     "text": [
      "duegry\n",
      "egry\n",
      "ugygeg\n",
      "dereyyfgrue\n",
      "reiugregjfgyeygeyrgeud\n"
     ]
    }
   ],
   "source": [
    "print(e[:6])\n",
    "print(e[2:6])\n",
    "print(e[1:12:2])\n",
    "print(e[: :2])\n",
    "print(e[ : :-1])"
   ]
  },
  {
   "cell_type": "code",
   "execution_count": 12,
   "metadata": {},
   "outputs": [
    {
     "name": "stdout",
     "output_type": "stream",
     "text": [
      "fname =>Vijay\n",
      "middlename =>Deenanath\n",
      "lastname =>Chauchan\n"
     ]
    }
   ],
   "source": [
    "name=\"Vijay Deenanath Chauchan\"\n",
    "print(f\"fname =>{name[0:5]}\")\n",
    "print(f\"middlename =>{name[6:15]}\")\n",
    "print(f\"lastname =>{name[16:24]}\")"
   ]
  },
  {
   "cell_type": "code",
   "execution_count": null,
   "metadata": {},
   "outputs": [],
   "source": []
  }
 ],
 "metadata": {
  "kernelspec": {
   "display_name": "base",
   "language": "python",
   "name": "python3"
  },
  "language_info": {
   "codemirror_mode": {
    "name": "ipython",
    "version": 3
   },
   "file_extension": ".py",
   "mimetype": "text/x-python",
   "name": "python",
   "nbconvert_exporter": "python",
   "pygments_lexer": "ipython3",
   "version": "3.12.4"
  }
 },
 "nbformat": 4,
 "nbformat_minor": 2
}
