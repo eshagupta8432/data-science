{
 "cells": [
  {
   "cell_type": "markdown",
   "metadata": {},
   "source": [
    "# string\n",
    "- creation\n",
    "- indexing\n",
    "- slicing\n",
    "- methods"
   ]
  },
  {
   "cell_type": "code",
   "execution_count": 3,
   "metadata": {},
   "outputs": [
    {
     "name": "stdout",
     "output_type": "stream",
     "text": [
      "  esha so it is used for multiline string exmample\n",
      "  esha hello\n",
      "  good morning\n",
      "  \n"
     ]
    }
   ],
   "source": [
    "# creation\n",
    "a=\" \"\n",
    "n=\"esha\"\n",
    "message=\"\"\"so it is used for multiline string exmample\n",
    "  esha hello\n",
    "  good morning\n",
    "  \"\"\"\n",
    "print(a,n,message)"
   ]
  },
  {
   "cell_type": "code",
   "execution_count": 6,
   "metadata": {},
   "outputs": [
    {
     "name": "stdout",
     "output_type": "stream",
     "text": [
      ">>>>>!!!!<<<<<<  >>>>>!!!!<<<<<<  >>>>>!!!!<<<<<<  >>>>>!!!!<<<<<<  >>>>>!!!!<<<<<<  >>>>>!!!!<<<<<<  >>>>>!!!!<<<<<<  >>>>>!!!!<<<<<<  >>>>>!!!!<<<<<<  >>>>>!!!!<<<<<<  \n"
     ]
    }
   ],
   "source": [
    "# string duplication\n",
    "d=\">>>>>!!!!<<<<<<  \"\n",
    "print(d*10)"
   ]
  },
  {
   "cell_type": "code",
   "execution_count": 4,
   "metadata": {},
   "outputs": [
    {
     "name": "stdout",
     "output_type": "stream",
     "text": [
      "22.33\n",
      "25362536\n"
     ]
    }
   ],
   "source": [
    "# casting\n",
    "a=str(22.33)\n",
    "b=str(25362536)\n",
    "print(a)\n",
    "print(b)"
   ]
  },
  {
   "cell_type": "code",
   "execution_count": 8,
   "metadata": {},
   "outputs": [
    {
     "name": "stdout",
     "output_type": "stream",
     "text": [
      "duegryegyeygfjgerguier => 22\n"
     ]
    }
   ],
   "source": [
    "e=\"duegryegyeygfjgerguier\"\n",
    "print(f\"{e} => {len(e)}\")"
   ]
  },
  {
   "cell_type": "markdown",
   "metadata": {},
   "source": [
    "## slicing\n",
    "\n",
    "- var[start: stop]\n",
    "- var[start: stop: step]\n",
    "- var[:stop ]\n",
    "- var[ start:]"
   ]
  },
  {
   "cell_type": "code",
   "execution_count": 11,
   "metadata": {},
   "outputs": [
    {
     "name": "stdout",
     "output_type": "stream",
     "text": [
      "duegry\n",
      "egry\n",
      "ugygeg\n",
      "dereyyfgrue\n",
      "reiugregjfgyeygeyrgeud\n"
     ]
    }
   ],
   "source": [
    "print(e[:6])\n",
    "print(e[2:6])\n",
    "print(e[1:12:2])\n",
    "print(e[: :2])\n",
    "print(e[ : :-1])"
   ]
  },
  {
   "cell_type": "code",
   "execution_count": 12,
   "metadata": {},
   "outputs": [
    {
     "name": "stdout",
     "output_type": "stream",
     "text": [
      "fname =>Vijay\n",
      "middlename =>Deenanath\n",
      "lastname =>Chauchan\n"
     ]
    }
   ],
   "source": [
    "name=\"Vijay Deenanath Chauchan\"\n",
    "print(f\"fname =>{name[0:5]}\")\n",
    "print(f\"middlename =>{name[6:15]}\")\n",
    "print(f\"lastname =>{name[16:24]}\")"
   ]
  },
  {
   "cell_type": "markdown",
   "metadata": {},
   "source": [
    "## String methods\n",
    "- formatting\n",
    "- validation\n",
    "- utility"
   ]
  },
  {
   "cell_type": "code",
   "execution_count": 4,
   "metadata": {},
   "outputs": [
    {
     "name": "stdout",
     "output_type": "stream",
     "text": [
      "Journey before destination\n",
      "JOURNEY BEFORE DESTINATION\n",
      "journey before destination\n",
      "JOURNEY BEFORE DESTINATION\n",
      "Journey Before Destination\n",
      "journey before destination\n",
      "JOURNEY BEFORE DESTINATION\n",
      "journey before destination\n"
     ]
    }
   ],
   "source": [
    "# formatting\n",
    "q=\"journey before destination\"\n",
    "\n",
    "print(q.capitalize())\n",
    "print(q.upper())\n",
    "print(q.lower())\n",
    "print(q.swapcase())\n",
    "print(q.title())\n",
    "print(q.casefold())\n",
    "print(q.upper())\n",
    "print(q)"
   ]
  },
  {
   "cell_type": "code",
   "execution_count": 8,
   "metadata": {},
   "outputs": [
    {
     "name": "stdout",
     "output_type": "stream",
     "text": [
      "journey before destination                                                                                                                                                                              \n",
      "journey before destination******************************************************************************************************************************************************************************\n",
      "                                                                                                                                                                              journey before destination\n",
      "                                                                                       journey before destination                                                                                       \n"
     ]
    }
   ],
   "source": [
    "print(q.ljust(200))\n",
    "print(q.ljust(200,\"*\"))\n",
    "print(q.rjust(200))\n",
    "print(q.center(200))"
   ]
  },
  {
   "cell_type": "code",
   "execution_count": 16,
   "metadata": {},
   "outputs": [
    {
     "name": "stdout",
     "output_type": "stream",
     "text": [
      "True\n",
      "True\n",
      "False\n",
      "False\n",
      "True\n",
      "False\n",
      "True\n",
      "True\n"
     ]
    }
   ],
   "source": [
    "# validation\n",
    "\n",
    "print(\"12333\".isdigit())\n",
    "print(\"appleeecnj\".isalpha())\n",
    "print(\"12333\".isalpha())\n",
    "print(\"1233efr\".isalpha())\n",
    "print(\"12333\".isnumeric())\n",
    "print(\"1 3 3\".isspace())\n",
    "print(\"   \".isspace())\n",
    "print(\"434gb\".isalnum())"
   ]
  },
  {
   "cell_type": "code",
   "execution_count": 17,
   "metadata": {},
   "outputs": [
    {
     "name": "stdout",
     "output_type": "stream",
     "text": [
      "😍\n"
     ]
    }
   ],
   "source": [
    "a=input(\"enter\")\n",
    "if a.isdigit:\n",
    "    a=int(a)\n",
    "    print(\"😍\")\n",
    "else:\n",
    "    print(\"😒\")"
   ]
  },
  {
   "cell_type": "code",
   "execution_count": null,
   "metadata": {},
   "outputs": [],
   "source": [
    "count=0\n",
    "ap=[\"grfg.com\",\"grtg.com\",\"huegfx.utuu\",\"fuhrug.gkkg\"]\n",
    "for i in range(0,ap):\n",
    "    if i.enswith(\".com\"):\n",
    "        count=count+1\n",
    "    \n"
   ]
  },
  {
   "cell_type": "code",
   "execution_count": 32,
   "metadata": {},
   "outputs": [
    {
     "name": "stdout",
     "output_type": "stream",
     "text": [
      "1\n",
      "4\n",
      "-1\n",
      "eshaOURNEY\n",
      "esha***URNE-----\n"
     ]
    }
   ],
   "source": [
    "# utility\n",
    "\n",
    "q=\"journey\"\n",
    "q=q.upper()\n",
    "print(q.find(\"O\"))\n",
    "print(q.find(\"N\"))\n",
    "print(q.find(\"J\",7))\n",
    "print(q.replace(\"J\",\"esha\"))\n",
    "print(q.replace(\"J\",\"esha\").replace(\"O\",\"***\").replace(\"Y\",\"-----\"))"
   ]
  },
  {
   "cell_type": "code",
   "execution_count": 34,
   "metadata": {},
   "outputs": [
    {
     "name": "stdout",
     "output_type": "stream",
     "text": [
      "2\n"
     ]
    }
   ],
   "source": [
    "word=\"hello kdrama lovers.. kdrama is best\"\n",
    "print(word.count(\"kdrama\"))"
   ]
  },
  {
   "cell_type": "code",
   "execution_count": 37,
   "metadata": {},
   "outputs": [
    {
     "name": "stdout",
     "output_type": "stream",
     "text": [
      "    esha gupta    \n",
      "esha gupta\n",
      "nffghsachinhyhg\n"
     ]
    }
   ],
   "source": [
    "name=\"    esha gupta    \"\n",
    "print(name)\n",
    "print(name.strip()) # used to remove leading space and tailing space\n",
    "\n",
    "data=\"   nffghsachinhyhg              \"\n",
    "print(data.strip())"
   ]
  },
  {
   "cell_type": "code",
   "execution_count": 42,
   "metadata": {},
   "outputs": [
    {
     "name": "stdout",
     "output_type": "stream",
     "text": [
      "['hello', 'kdrama', 'lovers..', 'kdrama', 'is', 'best']\n",
      "['hello ', ' lovers.. ', ' is best']\n",
      "['hello kdrama lovers', ' kdrama is best']\n"
     ]
    }
   ],
   "source": [
    "print(word.split())\n",
    "print(word.split(\"kdrama\"))\n",
    "print(word.split(\"..\"))"
   ]
  },
  {
   "cell_type": "code",
   "execution_count": 44,
   "metadata": {},
   "outputs": [
    {
     "name": "stdout",
     "output_type": "stream",
     "text": [
      "esha_ajay_gupta\n"
     ]
    }
   ],
   "source": [
    "n=[\"esha\",\"ajay\",\"gupta\"]\n",
    "j=\"_\".join(n)\n",
    "print(j)"
   ]
  },
  {
   "cell_type": "code",
   "execution_count": null,
   "metadata": {},
   "outputs": [],
   "source": []
  }
 ],
 "metadata": {
  "kernelspec": {
   "display_name": "base",
   "language": "python",
   "name": "python3"
  },
  "language_info": {
   "codemirror_mode": {
    "name": "ipython",
    "version": 3
   },
   "file_extension": ".py",
   "mimetype": "text/x-python",
   "name": "python",
   "nbconvert_exporter": "python",
   "pygments_lexer": "ipython3",
   "version": "3.12.4"
  }
 },
 "nbformat": 4,
 "nbformat_minor": 2
}
