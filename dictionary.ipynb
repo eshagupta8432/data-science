{
 "cells": [
  {
   "cell_type": "markdown",
   "metadata": {},
   "source": [
    "# data structure- Dictionary\n",
    "\n",
    "- ordered\n",
    "- mutable\n",
    "- key-value pair (unindexed)\n",
    "- keys are unique\n",
    "- values can be any data type\n",
    "- keys are case sensitive\n",
    "- represented ny curly brace {}\n",
    "- \"dict()\" id used to make dictionary"
   ]
  },
  {
   "cell_type": "code",
   "execution_count": 2,
   "metadata": {},
   "outputs": [
    {
     "name": "stdout",
     "output_type": "stream",
     "text": [
      "{} {'apple': 50, 'mango': 60, 'oranges': 90} {'almond': 500, 'cashew': 900}\n"
     ]
    }
   ],
   "source": [
    "a={}\n",
    " \n",
    "b={\"apple\": 50,\"mango\": 60,\"oranges\": 90}\n",
    "c=dict(almond=500, cashew=900)\n",
    "print(a,b,c)"
   ]
  },
  {
   "cell_type": "code",
   "execution_count": 3,
   "metadata": {},
   "outputs": [
    {
     "name": "stdout",
     "output_type": "stream",
     "text": [
      "{'k1': {'k11': 45, 'k12': 44}, 'k2': {'k21': 55, 'k22': 56}}\n"
     ]
    }
   ],
   "source": [
    "d={\"k1\":{\"k11\":45,\"k12\":44},\"k2\":{\"k21\":55,\"k22\":56}}\n",
    "print(d)"
   ]
  },
  {
   "cell_type": "code",
   "execution_count": 5,
   "metadata": {},
   "outputs": [
    {
     "name": "stdout",
     "output_type": "stream",
     "text": [
      "50\n",
      "not found\n",
      "50\n"
     ]
    }
   ],
   "source": [
    "print(b['apple'])\n",
    "# print(b['apples])\n",
    "print(b.get('apples','not found'))\n",
    "print(b.get('apple'))"
   ]
  },
  {
   "cell_type": "code",
   "execution_count": 10,
   "metadata": {},
   "outputs": [
    {
     "name": "stdout",
     "output_type": "stream",
     "text": [
      "{'apple': 50, 'mango': 60, 'oranges': 222, 'cherry': 66, 'pineapple': 664}\n"
     ]
    }
   ],
   "source": [
    "#add/ update\n",
    "\n",
    "b['oranges']=222      #update\n",
    "b[\"cherry\"]=66   # add\n",
    "b[\"pineapple\"]=664   # add\n",
    "print(b)"
   ]
  },
  {
   "cell_type": "code",
   "execution_count": 11,
   "metadata": {},
   "outputs": [
    {
     "name": "stdout",
     "output_type": "stream",
     "text": [
      "{'apple': 50, 'mango': 60, 'oranges': 222, 'pineapple': 664}\n"
     ]
    }
   ],
   "source": [
    "# remove\n",
    "b.pop(\"cherry\")\n",
    "print(b)"
   ]
  },
  {
   "cell_type": "code",
   "execution_count": 15,
   "metadata": {},
   "outputs": [
    {
     "name": "stdout",
     "output_type": "stream",
     "text": [
      "apple\n",
      "mango\n",
      "oranges\n",
      "pineapple\n",
      "pineapple 664\n",
      "pineapple 664\n",
      "pineapple 664\n",
      "pineapple 664\n",
      "apple 50\n",
      "mango 60\n",
      "oranges 222\n",
      "pineapple 664\n",
      "50\n",
      "60\n",
      "222\n",
      "664\n"
     ]
    }
   ],
   "source": [
    "# traversel\n",
    "# style-1\n",
    "\n",
    "for key in b:\n",
    "    print(key)\n",
    "\n",
    "for k in b:\n",
    "    print(key,b[key])\n",
    "\n",
    "\n",
    "# style-2\n",
    " \n",
    "for k,v in b.items():\n",
    "    print(k,v)\n",
    "\n",
    "#style 3\n",
    "for v in b.values():\n",
    "    print(v)"
   ]
  },
  {
   "cell_type": "code",
   "execution_count": null,
   "metadata": {},
   "outputs": [],
   "source": []
  }
 ],
 "metadata": {
  "kernelspec": {
   "display_name": "base",
   "language": "python",
   "name": "python3"
  },
  "language_info": {
   "codemirror_mode": {
    "name": "ipython",
    "version": 3
   },
   "file_extension": ".py",
   "mimetype": "text/x-python",
   "name": "python",
   "nbconvert_exporter": "python",
   "pygments_lexer": "ipython3",
   "version": "3.12.4"
  }
 },
 "nbformat": 4,
 "nbformat_minor": 2
}
