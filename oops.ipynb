{
 "cells": [
  {
   "cell_type": "markdown",
   "metadata": {},
   "source": [
    "# oops\n",
    "  - classes and objects\n",
    "    - attributes (instance variables)\n",
    "    - constructor\n",
    "    - methods\n",
    "  - data classes\n",
    "  - inheritence\n",
    "    - simple inheritence\n",
    "    - multiple inheritence"
   ]
  },
  {
   "cell_type": "code",
   "execution_count": 1,
   "metadata": {},
   "outputs": [],
   "source": [
    "class A:\n",
    "    value=10"
   ]
  },
  {
   "cell_type": "code",
   "execution_count": 4,
   "metadata": {},
   "outputs": [
    {
     "name": "stdout",
     "output_type": "stream",
     "text": [
      "10\n"
     ]
    }
   ],
   "source": [
    "a=A()   # object creation of class A\n",
    "print(a.value)"
   ]
  },
  {
   "cell_type": "code",
   "execution_count": 15,
   "metadata": {},
   "outputs": [],
   "source": [
    "class square:\n",
    "    side=10\n",
    "\n",
    " # instance method -> 1st parameter is self\n",
    "    def area(self):\n",
    "        return self.side**2\n",
    "    def perimeter(self):\n",
    "        return 4*self.side\n",
    "    \n",
    "    # class method == similar to static method in java\n",
    "\n",
    "    def faltu():\n",
    "        return \"this is faltu\""
   ]
  },
  {
   "cell_type": "code",
   "execution_count": 16,
   "metadata": {},
   "outputs": [
    {
     "data": {
      "text/plain": [
       "'this is faltu'"
      ]
     },
     "execution_count": 16,
     "metadata": {},
     "output_type": "execute_result"
    }
   ],
   "source": [
    "square.side  # static variable\n",
    "square.faltu()"
   ]
  },
  {
   "cell_type": "code",
   "execution_count": 17,
   "metadata": {},
   "outputs": [
    {
     "name": "stdout",
     "output_type": "stream",
     "text": [
      "400\n",
      "80\n",
      "4\n",
      "8\n"
     ]
    }
   ],
   "source": [
    "s=square()\n",
    "s.side=20\n",
    "print(s.area())\n",
    "print(s.perimeter())\n",
    "\n",
    "s2=square()\n",
    "s2.side=2\n",
    "print(s2.area())\n",
    "print(s2.perimeter())"
   ]
  },
  {
   "cell_type": "markdown",
   "metadata": {},
   "source": [
    "## constructor\n",
    "    __init__(self,...)"
   ]
  },
  {
   "cell_type": "code",
   "execution_count": 20,
   "metadata": {},
   "outputs": [],
   "source": [
    "class person:\n",
    "    # constructor\n",
    "    def __init__(self,n,a,g):\n",
    "        self.name=n\n",
    "        self.age=a\n",
    "        self.gender=g\n",
    "    \n",
    "    def show(self):\n",
    "        print(f\"name: (self.name),\")\n",
    "        print(f\"age: (self.age),\")\n",
    "        print(f\"gender: (self.gender)\")"
   ]
  },
  {
   "cell_type": "code",
   "execution_count": 27,
   "metadata": {},
   "outputs": [],
   "source": [
    "p1=person(\"esha\",22,\"female\")\n",
    "p2=person(\"eshan\",21,\"male\")\n",
    "p3=person(\"eshani\",23,\"female\")"
   ]
  },
  {
   "cell_type": "code",
   "execution_count": 28,
   "metadata": {},
   "outputs": [],
   "source": [
    "class calculator:\n",
    "    def add(self,a,b):\n",
    "        return a+b\n",
    "    def sub(self,a,b):\n",
    "        return a-b\n",
    "    def multiply(self,a,b):\n",
    "        return a*b\n",
    "    def divide(self,a,b):\n",
    "        return a/b"
   ]
  },
  {
   "cell_type": "code",
   "execution_count": 29,
   "metadata": {},
   "outputs": [
    {
     "name": "stdout",
     "output_type": "stream",
     "text": [
      "30\n",
      "200\n",
      "0.5\n"
     ]
    }
   ],
   "source": [
    "c= calculator()\n",
    "print(c.add(10,20))\n",
    "print(c.multiply(10,20))\n",
    "print(c.divide(10,20))"
   ]
  },
  {
   "cell_type": "markdown",
   "metadata": {},
   "source": [
    "### data classes"
   ]
  },
  {
   "cell_type": "code",
   "execution_count": 30,
   "metadata": {},
   "outputs": [],
   "source": [
    "from dataclasses import dataclass\n",
    "\n",
    "@dataclass\n",
    "class product:\n",
    "    name: str\n",
    "    price: float\n",
    "    qty: int\n",
    "\n",
    "products=[\n",
    "    product(\"apple\",100,20),\n",
    "    product(\"mango\",100,20),\n",
    "    product(\"banana\",100,20)\n",
    "]"
   ]
  },
  {
   "cell_type": "code",
   "execution_count": 25,
   "metadata": {},
   "outputs": [
    {
     "name": "stdout",
     "output_type": "stream",
     "text": [
      "apple 2000\n",
      "mango 2000\n",
      "banana 2000\n"
     ]
    }
   ],
   "source": [
    "# traverse\n",
    "\n",
    "for item in products:\n",
    "    print(item.name,item.price*item.qty)"
   ]
  },
  {
   "cell_type": "code",
   "execution_count": 26,
   "metadata": {},
   "outputs": [
    {
     "data": {
      "text/plain": [
       "[product(name='apple', price=100, qty=20),\n",
       " product(name='mango', price=100, qty=20),\n",
       " product(name='banana', price=100, qty=20)]"
      ]
     },
     "execution_count": 26,
     "metadata": {},
     "output_type": "execute_result"
    }
   ],
   "source": [
    "products"
   ]
  },
  {
   "cell_type": "code",
   "execution_count": 31,
   "metadata": {},
   "outputs": [
    {
     "data": {
      "text/plain": [
       "[<__main__.person at 0x20e13d24aa0>,\n",
       " <__main__.person at 0x20e13d25d00>,\n",
       " <__main__.person at 0x20e1403ef90>]"
      ]
     },
     "execution_count": 31,
     "metadata": {},
     "output_type": "execute_result"
    }
   ],
   "source": [
    "[p1,p2,p3]"
   ]
  },
  {
   "cell_type": "markdown",
   "metadata": {},
   "source": [
    "dunder methods -> functions that start and end with double underscore"
   ]
  },
  {
   "cell_type": "code",
   "execution_count": 39,
   "metadata": {},
   "outputs": [],
   "source": [
    "class dog:\n",
    "    def __init__(self,breed,color,gender,age,name):\n",
    "        self.breed=breed\n",
    "        self.color=color\n",
    "        self.gender=gender\n",
    "        self.age=age\n",
    "        self.name=name\n",
    "\n",
    "    def bark(self):\n",
    "        print(\"barking\")\n",
    "    def eat(self,food):\n",
    "        print(f\"(self.name)eating (food)\")\n",
    "    def sleep(self,duration):\n",
    "        print(f\"(self.name) slept for (duration) hours\")\n",
    "    def __str__(self):\n",
    "        return f\"(self.name)((self.breed))\""
   ]
  },
  {
   "cell_type": "code",
   "execution_count": 40,
   "metadata": {},
   "outputs": [
    {
     "name": "stdout",
     "output_type": "stream",
     "text": [
      "(self.name) slept for (duration) hours\n",
      "(self.name)((self.breed))\n"
     ]
    }
   ],
   "source": [
    "d1=dog(\"bull dog\",\"brown\",\"male\",3,\"candy\")\n",
    "d1.sleep(5)\n",
    "print(d1)"
   ]
  },
  {
   "cell_type": "markdown",
   "metadata": {},
   "source": [
    "## inheritance"
   ]
  },
  {
   "cell_type": "code",
   "execution_count": 44,
   "metadata": {},
   "outputs": [],
   "source": [
    "class superlist(list):\n",
    "    def sum(self):\n",
    "        total=0\n",
    "        for item in self:\n",
    "            if isinstance(item,(int,float)):\n",
    "                total +=item\n",
    "            return total\n",
    "    def mean(self):\n",
    "        return self.sum() /self.size()\n",
    "    def size(self):\n",
    "        return len[(i for i in self if isinstance(i,(int,float)))]\n",
    "\n"
   ]
  },
  {
   "cell_type": "code",
   "execution_count": 46,
   "metadata": {},
   "outputs": [
    {
     "name": "stdout",
     "output_type": "stream",
     "text": [
      "1\n",
      "0\n"
     ]
    }
   ],
   "source": [
    "s1=superlist([1,2,3,4,5])\n",
    "print(s1.sum())\n",
    "s2=superlist([\"A\",1,2,3,4,\"B\",\"C\",10])\n",
    "print(s2.sum())"
   ]
  },
  {
   "cell_type": "code",
   "execution_count": null,
   "metadata": {},
   "outputs": [],
   "source": []
  },
  {
   "cell_type": "code",
   "execution_count": null,
   "metadata": {},
   "outputs": [],
   "source": []
  }
 ],
 "metadata": {
  "kernelspec": {
   "display_name": "base",
   "language": "python",
   "name": "python3"
  },
  "language_info": {
   "codemirror_mode": {
    "name": "ipython",
    "version": 3
   },
   "file_extension": ".py",
   "mimetype": "text/x-python",
   "name": "python",
   "nbconvert_exporter": "python",
   "pygments_lexer": "ipython3",
   "version": "3.12.4"
  }
 },
 "nbformat": 4,
 "nbformat_minor": 2
}
