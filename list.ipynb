{
 "cells": [
  {
   "cell_type": "markdown",
   "metadata": {},
   "source": [
    "# data structure- list\n",
    "\n",
    "- creation\n",
    "- indexing and slicing\n",
    "- methods-11\n",
    "- list comphersion"
   ]
  },
  {
   "cell_type": "code",
   "execution_count": 1,
   "metadata": {},
   "outputs": [],
   "source": [
    "x=[]\n",
    "num=[1,2,3,4]\n",
    "word=[\"esha\",\"zara\",\"aliya\"]\n",
    "bool_list=[True,True,False]\n",
    "mix=[1,3,\"uut\",\"gh\"]\n",
    "nested=[[565,89,9],[88,99,00]]"
   ]
  },
  {
   "cell_type": "code",
   "execution_count": 3,
   "metadata": {},
   "outputs": [
    {
     "name": "stdout",
     "output_type": "stream",
     "text": [
      "[1, 4, 7, 10]\n",
      "[[3, 65, 763, 23], ['uyr', 'ufeh', 'tt'], [5, 'gnjg', 'j4', 4]]\n",
      "[1, 1, 1, 1, 1, 1, 1, 1, 1, 1]\n"
     ]
    }
   ],
   "source": [
    "y=list(range(1,12,3))\n",
    "print(y)\n",
    "a=[3,65,763,23]\n",
    "b=[\"uyr\",\"ufeh\",\"tt\"]\n",
    "c=[5,\"gnjg\",\"j4\",4]\n",
    "mat=[a,b,c]\n",
    "print(mat)\n",
    "\n",
    "z=[1]*10\n",
    "print(z)"
   ]
  },
  {
   "cell_type": "markdown",
   "metadata": {},
   "source": [
    "### rules for list\n",
    "1. indexed\n",
    "2. ordered\n",
    "3. mutable\n",
    "4. hetrogenous\n",
    "5. can have duplicate value\n",
    "6. represented with []\n",
    "7. \"list()\" can be used to cast other datastructure to a list"
   ]
  },
  {
   "cell_type": "code",
   "execution_count": 5,
   "metadata": {},
   "outputs": [
    {
     "name": "stdout",
     "output_type": "stream",
     "text": [
      "7\n",
      "esha\n",
      "riya\n",
      "saksham\n",
      "saksham\n"
     ]
    }
   ],
   "source": [
    "name=[\"esha\",\"sachin\",\"arpit\",\"saksham\",\"riya\",\"tanu\",\"tanisha\"]\n",
    "print(len(name))\n",
    "\n",
    "print(name[0])\n",
    "print(name[-3])\n",
    "print(name[-4])\n",
    "print(name[3])"
   ]
  },
  {
   "cell_type": "code",
   "execution_count": 8,
   "metadata": {},
   "outputs": [
    {
     "name": "stdout",
     "output_type": "stream",
     "text": [
      "['esha', 'sachin', 'arpit', 'saksham', 'riya']\n",
      "['arpit', 'saksham', 'riya', 'tanu', 'tanisha']\n",
      "[]\n",
      "['tanisha', 'tanu', 'riya', 'saksham', 'arpit', 'sachin', 'esha']\n"
     ]
    }
   ],
   "source": [
    "# slicing\n",
    "print(name[:5])\n",
    "print(name[-5:])\n",
    "print(name[-2:2])\n",
    "print(name[::-1])"
   ]
  },
  {
   "cell_type": "code",
   "execution_count": 12,
   "metadata": {},
   "outputs": [
    {
     "name": "stdout",
     "output_type": "stream",
     "text": [
      "ahse\n",
      "nihcas\n",
      "tipra\n",
      "mahskas\n",
      "ayir\n",
      "unat\n",
      "ahsinat\n"
     ]
    }
   ],
   "source": [
    "\n",
    "for i in name:\n",
    "   print(i[::-1])"
   ]
  },
  {
   "cell_type": "markdown",
   "metadata": {},
   "source": [
    "## list methods\n",
    "- add\n",
    "  - append\n",
    "  - extend\n",
    "  - insert\n",
    "- remove\n",
    "  - remove\n",
    "  - pop\n",
    "  - clear\n",
    "- utility\n",
    "  - reverse\n",
    "  - sort\n",
    "  - count\n",
    "  - index\n",
    "  - copy"
   ]
  },
  {
   "cell_type": "code",
   "execution_count": 13,
   "metadata": {},
   "outputs": [],
   "source": [
    "fruits=[\"apple\",\"banana\",\"cherry\",\"dragonfruit\",\"elderfruit\",\"fig\"]"
   ]
  },
  {
   "cell_type": "code",
   "execution_count": 17,
   "metadata": {},
   "outputs": [
    {
     "name": "stdout",
     "output_type": "stream",
     "text": [
      "['apple', 'banana', 'cherry', 'dragonfruit', 'elderfruit', 'fig', 'gauva', 'gauva', 2, 3, 4, 'gauva']\n"
     ]
    }
   ],
   "source": [
    "fruits.append(\"gauva\") # add one item at a time\n",
    "# we can add nested list with the help of append\n",
    "print(fruits)"
   ]
  },
  {
   "cell_type": "code",
   "execution_count": 16,
   "metadata": {},
   "outputs": [
    {
     "name": "stdout",
     "output_type": "stream",
     "text": [
      "['apple', 'banana', 'cherry', 'dragonfruit', 'elderfruit', 'fig', 'gauva', 'gauva', 2, 3, 4]\n"
     ]
    }
   ],
   "source": [
    "fruits.extend([2,3,4])\n",
    "print(fruits)"
   ]
  },
  {
   "cell_type": "code",
   "execution_count": 18,
   "metadata": {},
   "outputs": [
    {
     "name": "stdout",
     "output_type": "stream",
     "text": [
      "[1111, 333, 4444]\n"
     ]
    }
   ],
   "source": [
    "x=[222,333,4444]\n",
    "# replace 222 by 1111\n",
    "x[0]=1111\n",
    "print(x)"
   ]
  },
  {
   "cell_type": "code",
   "execution_count": 23,
   "metadata": {},
   "outputs": [
    {
     "name": "stdout",
     "output_type": "stream",
     "text": [
      "[1111, 333, 222, 222, 0, 0, 0, 4444]\n"
     ]
    }
   ],
   "source": [
    "x.insert(2,222)\n",
    "print(x)"
   ]
  },
  {
   "cell_type": "code",
   "execution_count": 32,
   "metadata": {},
   "outputs": [
    {
     "name": "stdout",
     "output_type": "stream",
     "text": [
      "[1111, 333, 222, 222, 0, 0, 0, 0, 0, 4444]\n"
     ]
    }
   ],
   "source": [
    "x.insert(-1,0)\n",
    "print(x)"
   ]
  },
  {
   "cell_type": "code",
   "execution_count": 33,
   "metadata": {},
   "outputs": [
    {
     "name": "stdout",
     "output_type": "stream",
     "text": [
      "[1, 3, 4, 5, 6, 7, 8, 9]\n"
     ]
    }
   ],
   "source": [
    "a=[1,2,3,4,5,6,7,8,9]\n",
    "a.remove(2)\n",
    "print(a)"
   ]
  },
  {
   "cell_type": "code",
   "execution_count": 34,
   "metadata": {},
   "outputs": [
    {
     "name": "stdout",
     "output_type": "stream",
     "text": [
      "[1, 3, 4, 5, 6, 7, 8]\n",
      "[1, 3, 5, 6, 7, 8]\n"
     ]
    }
   ],
   "source": [
    "a.pop()\n",
    "print(a)\n",
    "a.pop(2)\n",
    "print(a)"
   ]
  },
  {
   "cell_type": "code",
   "execution_count": 36,
   "metadata": {},
   "outputs": [
    {
     "name": "stdout",
     "output_type": "stream",
     "text": [
      "[]\n"
     ]
    }
   ],
   "source": [
    "a.clear()\n",
    "print(a)"
   ]
  },
  {
   "cell_type": "code",
   "execution_count": 41,
   "metadata": {},
   "outputs": [
    {
     "name": "stdout",
     "output_type": "stream",
     "text": [
      "[1, 3, 3, 4, 11, 22, 44, 66, 55555555]\n",
      "1\n"
     ]
    }
   ],
   "source": [
    "q=[1,3,4,22,44,11,3,55555555,66]\n",
    "q.sort()\n",
    "print(q)\n",
    "\n",
    "print(q.count(55555555))"
   ]
  },
  {
   "cell_type": "code",
   "execution_count": null,
   "metadata": {},
   "outputs": [],
   "source": [
    "a=[1,2,3]\n",
    "y="
   ]
  }
 ],
 "metadata": {
  "kernelspec": {
   "display_name": "base",
   "language": "python",
   "name": "python3"
  },
  "language_info": {
   "codemirror_mode": {
    "name": "ipython",
    "version": 3
   },
   "file_extension": ".py",
   "mimetype": "text/x-python",
   "name": "python",
   "nbconvert_exporter": "python",
   "pygments_lexer": "ipython3",
   "version": "3.12.4"
  }
 },
 "nbformat": 4,
 "nbformat_minor": 2
}
