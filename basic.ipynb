{
 "cells": [
  {
   "cell_type": "markdown",
   "metadata": {},
   "source": [
    "# Basics\n",
    "\n",
    "- variables\n",
    "- operators\n",
    "- datatypes\n",
    "- input/output"
   ]
  },
  {
   "cell_type": "code",
   "execution_count": 37,
   "metadata": {},
   "outputs": [],
   "source": [
    "\n",
    "x=4\n",
    "a=112\n",
    "\n",
    "b=2332\n",
    "c=a+b"
   ]
  },
  {
   "cell_type": "code",
   "execution_count": 38,
   "metadata": {},
   "outputs": [],
   "source": [
    "area=a*b"
   ]
  },
  {
   "cell_type": "code",
   "execution_count": 39,
   "metadata": {},
   "outputs": [],
   "source": [
    "p=23\n",
    "r=44\n",
    "t=1\n",
    "si=(p*r*t)/100"
   ]
  },
  {
   "cell_type": "code",
   "execution_count": 40,
   "metadata": {},
   "outputs": [
    {
     "data": {
      "text/plain": [
       "10.12"
      ]
     },
     "execution_count": 40,
     "metadata": {},
     "output_type": "execute_result"
    }
   ],
   "source": [
    "si"
   ]
  },
  {
   "cell_type": "code",
   "execution_count": 41,
   "metadata": {},
   "outputs": [],
   "source": [
    "del x"
   ]
  },
  {
   "cell_type": "markdown",
   "metadata": {},
   "source": [
    "## operators\n",
    "- assignment\n",
    "- arithematic\n",
    "- logical\n",
    "- comparison\n",
    "- membership\n",
    "- identity"
   ]
  },
  {
   "cell_type": "code",
   "execution_count": 42,
   "metadata": {},
   "outputs": [
    {
     "data": {
      "text/plain": [
       "20"
      ]
     },
     "execution_count": 42,
     "metadata": {},
     "output_type": "execute_result"
    }
   ],
   "source": [
    "# assignment\n",
    "x=2\n",
    "\n",
    "x+=6\n",
    "x-=4\n",
    "x*=5\n",
    "x"
   ]
  },
  {
   "cell_type": "code",
   "execution_count": 43,
   "metadata": {},
   "outputs": [
    {
     "data": {
      "text/plain": [
       "2444"
      ]
     },
     "execution_count": 43,
     "metadata": {},
     "output_type": "execute_result"
    }
   ],
   "source": [
    "# arithematic\n",
    "a+b"
   ]
  },
  {
   "cell_type": "code",
   "execution_count": 44,
   "metadata": {},
   "outputs": [
    {
     "data": {
      "text/plain": [
       "-2220"
      ]
     },
     "execution_count": 44,
     "metadata": {},
     "output_type": "execute_result"
    }
   ],
   "source": [
    "a-b"
   ]
  },
  {
   "cell_type": "code",
   "execution_count": 45,
   "metadata": {},
   "outputs": [
    {
     "data": {
      "text/plain": [
       "0.048027444253859346"
      ]
     },
     "execution_count": 45,
     "metadata": {},
     "output_type": "execute_result"
    }
   ],
   "source": [
    "a/b"
   ]
  },
  {
   "cell_type": "code",
   "execution_count": 46,
   "metadata": {},
   "outputs": [
    {
     "name": "stdout",
     "output_type": "stream",
     "text": [
      "2444\n",
      "224\n"
     ]
    }
   ],
   "source": [
    "print(a+b)\n",
    "print(a*2)"
   ]
  },
  {
   "cell_type": "code",
   "execution_count": 47,
   "metadata": {},
   "outputs": [
    {
     "name": "stdout",
     "output_type": "stream",
     "text": [
      "0\n",
      "112\n",
      "12544\n"
     ]
    }
   ],
   "source": [
    "print(a//b)\n",
    "print(a%b)\n",
    "print(a**2)"
   ]
  },
  {
   "cell_type": "code",
   "execution_count": 48,
   "metadata": {},
   "outputs": [
    {
     "name": "stdout",
     "output_type": "stream",
     "text": [
      "False\n",
      "False\n",
      "True\n",
      "True\n",
      "True\n"
     ]
    }
   ],
   "source": [
    "#comparison\n",
    "print(a>b)\n",
    "print(a>b)\n",
    "print(x>=11)\n",
    "print(a<=166)\n",
    "print(x!=2344)"
   ]
  },
  {
   "cell_type": "code",
   "execution_count": 49,
   "metadata": {},
   "outputs": [
    {
     "name": "stdout",
     "output_type": "stream",
     "text": [
      "False\n",
      "True\n"
     ]
    }
   ],
   "source": [
    "#logical\n",
    "print(x>3476 and a>73467)\n",
    "print(x<73647 and a<2738)"
   ]
  },
  {
   "cell_type": "code",
   "execution_count": 50,
   "metadata": {},
   "outputs": [
    {
     "name": "stdout",
     "output_type": "stream",
     "text": [
      "False\n",
      "True\n"
     ]
    }
   ],
   "source": [
    "#membership\n",
    "a=[4,45,6565,4545,6466]\n",
    "print(13 in a)\n",
    "print(6356 not in a)"
   ]
  },
  {
   "cell_type": "code",
   "execution_count": 51,
   "metadata": {},
   "outputs": [
    {
     "name": "stdout",
     "output_type": "stream",
     "text": [
      "True\n",
      "False\n",
      "False\n"
     ]
    }
   ],
   "source": [
    "# identity\n",
    "a=[5,52,4,11,34,345]\n",
    "b=a\n",
    "c=[4,8,9,8]\n",
    "print(a is b)\n",
    "print(a is c)\n",
    "print(b is c)"
   ]
  },
  {
   "cell_type": "code",
   "execution_count": 52,
   "metadata": {},
   "outputs": [],
   "source": [
    "# datatype\n",
    "\n",
    "name=\"esha\"\n",
    "pi=3.14\n",
    "happy= True\n",
    "data=None\n",
    "a_list=[23,3,2,4,56]\n",
    "a_tuple=(3,56,33)\n",
    "a_set={23,433,11}\n",
    "a_dict={'a':56, 'b':5665}"
   ]
  },
  {
   "cell_type": "code",
   "execution_count": 54,
   "metadata": {},
   "outputs": [
    {
     "name": "stdout",
     "output_type": "stream",
     "text": [
      "<class 'str'>\n",
      "<class 'bool'>\n",
      "<class 'list'>\n"
     ]
    }
   ],
   "source": [
    "print(type(name))\n",
    "print(type(happy))\n",
    "print(type(a_list))"
   ]
  },
  {
   "cell_type": "markdown",
   "metadata": {},
   "source": [
    "### displaying output and getting input"
   ]
  },
  {
   "cell_type": "code",
   "execution_count": 2,
   "metadata": {},
   "outputs": [
    {
     "name": "stdout",
     "output_type": "stream",
     "text": [
      "hello&esha\n"
     ]
    }
   ],
   "source": [
    "print(\"hello\",\"esha\", sep=\"&\")"
   ]
  },
  {
   "cell_type": "code",
   "execution_count": 5,
   "metadata": {},
   "outputs": [
    {
     "name": "stdout",
     "output_type": "stream",
     "text": [
      "hi sachin\n",
      "helloo###64376###45746\n",
      "c:/user/esha/desktop\n"
     ]
    }
   ],
   "source": [
    "print(\"hi sachin\")\n",
    "print(\"helloo\",\"64376\",\"45746\",sep=\"###\")\n",
    "print(\"c:\",\"user\",\"esha\",\"desktop\",sep=\"/\")\n"
   ]
  },
  {
   "cell_type": "code",
   "execution_count": 6,
   "metadata": {},
   "outputs": [
    {
     "name": "stdout",
     "output_type": "stream",
     "text": [
      "['apple', 'mango', 'cherry']\n",
      "apple mango cherry\n"
     ]
    }
   ],
   "source": [
    "fruits=[\"apple\",\"mango\",\"cherry\"]\n",
    "print(fruits)\n",
    "print(*fruits)"
   ]
  },
  {
   "cell_type": "markdown",
   "metadata": {},
   "source": [
    "# displaying content with variable"
   ]
  },
  {
   "cell_type": "code",
   "execution_count": 9,
   "metadata": {},
   "outputs": [
    {
     "name": "stdout",
     "output_type": "stream",
     "text": [
      "result => 10 + 20 = 30\n",
      "result => 10 + 20 = 30\n"
     ]
    }
   ],
   "source": [
    "a,b=10,20\n",
    "c=a+b\n",
    "print(\"result =>\", a,\"+\",b,\"=\",c)\n",
    "print(f'result => {a} + {b} = {c}') # f-string"
   ]
  },
  {
   "cell_type": "code",
   "execution_count": 10,
   "metadata": {},
   "outputs": [
    {
     "data": {
      "text/plain": [
       "'56'"
      ]
     },
     "execution_count": 10,
     "metadata": {},
     "output_type": "execute_result"
    }
   ],
   "source": [
    "input()"
   ]
  },
  {
   "cell_type": "code",
   "execution_count": 11,
   "metadata": {},
   "outputs": [
    {
     "data": {
      "text/plain": [
       "36456354"
      ]
     },
     "execution_count": 11,
     "metadata": {},
     "output_type": "execute_result"
    }
   ],
   "source": [
    "int(input())"
   ]
  },
  {
   "cell_type": "code",
   "execution_count": 13,
   "metadata": {},
   "outputs": [],
   "source": [
    "a=(input(\"enter\"))"
   ]
  },
  {
   "cell_type": "code",
   "execution_count": 14,
   "metadata": {},
   "outputs": [
    {
     "name": "stdout",
     "output_type": "stream",
     "text": [
      "esha\n"
     ]
    }
   ],
   "source": [
    "name=input(\"who are u\") \n",
    "print(name)"
   ]
  },
  {
   "cell_type": "code",
   "execution_count": 16,
   "metadata": {},
   "outputs": [
    {
     "name": "stdout",
     "output_type": "stream",
     "text": [
      "simple interest calculation\n",
      "principal=>4675674\n",
      "rate of interest=>34\n",
      "time=>32\n",
      "--------------------------\n",
      "simple interest=>50871333.12\n"
     ]
    }
   ],
   "source": [
    "p=int(input(\"enter\"))\n",
    "r=int(input(\"enter\"))\n",
    "t=int(input(\"enter\"))\n",
    "si=p*r*t/100\n",
    "print(\"simple interest calculation\")\n",
    "print(f'principal=>{p}')\n",
    "print(f'rate of interest=>{r}')\n",
    "print(f'time=>{t}')\n",
    "print(\"--------------------------\")\n",
    "print(f'simple interest=>{si}')"
   ]
  },
  {
   "cell_type": "markdown",
   "metadata": {},
   "source": [
    "### alignment amd formatting"
   ]
  },
  {
   "cell_type": "code",
   "execution_count": 18,
   "metadata": {},
   "outputs": [
    {
     "name": "stdout",
     "output_type": "stream",
     "text": [
      "journey\n",
      "journey\n",
      "journey                                                                                             \n",
      "                                                                                             journey\n",
      "                                              journey                                               \n"
     ]
    }
   ],
   "source": [
    "word=\"journey\"\n",
    "print(word)\n",
    "print(f\"{word}\")\n",
    "print(f\"{word:100}\")\n",
    "print(f\"{word:>100}\")\n",
    "print(f\"{word:^100}\")"
   ]
  },
  {
   "cell_type": "code",
   "execution_count": 19,
   "metadata": {},
   "outputs": [
    {
     "name": "stdout",
     "output_type": "stream",
     "text": [
      "                                                                                               19999\n",
      "                                               19999                                                \n",
      "                                                                                           19999.000\n",
      "19999.000\n"
     ]
    }
   ],
   "source": [
    "num=19999\n",
    "print(f\"{num:>100}\")\n",
    "print(f\"{num:^100}\")\n",
    "print(f\"{num:100.3f}\")\n",
    "print(f\"{num:.3f}\")"
   ]
  },
  {
   "cell_type": "code",
   "execution_count": 22,
   "metadata": {},
   "outputs": [
    {
     "name": "stdout",
     "output_type": "stream",
     "text": [
      "simple interest calculation\n",
      "--------------------------\n",
      "principal              4675674\n",
      "rate of interest          34\n",
      "time                         32\n",
      "--------------------------\n",
      "simple interest=>50871333.12\n"
     ]
    }
   ],
   "source": [
    "print(\"simple interest calculation\")\n",
    "print(\"--------------------------\")\n",
    "print(f'principal {p:20}')\n",
    "print(f'rate of interest  {r:10}')\n",
    "print(f'time  {t:25}')\n",
    "print(\"--------------------------\")\n",
    "print(f'simple interest=>{si}')"
   ]
  },
  {
   "cell_type": "code",
   "execution_count": 31,
   "metadata": {},
   "outputs": [
    {
     "name": "stdout",
     "output_type": "stream",
     "text": [
      "enter the value 45\n",
      "------------------------------\n",
      "volume calculation\n",
      "radius   45\n",
      "volume of sphere => 8478.000000000002\n"
     ]
    }
   ],
   "source": [
    "s=int(input(\"enter\"))\n",
    "print(f\"enter the value {s}\")\n",
    "print(\"---\"*10)\n",
    "volume=(4*3.14*s*s)/3\n",
    "print(\"volume calculation\")\n",
    "print(f'radius {s:4}')\n",
    "print(f\"volume of sphere => {volume}\")"
   ]
  },
  {
   "cell_type": "code",
   "execution_count": null,
   "metadata": {},
   "outputs": [],
   "source": []
  }
 ],
 "metadata": {
  "kernelspec": {
   "display_name": "base",
   "language": "python",
   "name": "python3"
  },
  "language_info": {
   "codemirror_mode": {
    "name": "ipython",
    "version": 3
   },
   "file_extension": ".py",
   "mimetype": "text/x-python",
   "name": "python",
   "nbconvert_exporter": "python",
   "pygments_lexer": "ipython3",
   "version": "3.12.4"
  }
 },
 "nbformat": 4,
 "nbformat_minor": 2
}
