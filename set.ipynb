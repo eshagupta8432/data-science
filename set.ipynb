{
 "cells": [
  {
   "cell_type": "markdown",
   "metadata": {},
   "source": [
    "## data structure - set\n",
    "\n",
    "- unordered\n",
    "- unindexed\n",
    "- mutable\n",
    "- mixed immutable elements\n",
    "- unique elements\n",
    "- iteratble\n",
    "- represented by curly braces \"{}\"\n"
   ]
  },
  {
   "cell_type": "code",
   "execution_count": 2,
   "metadata": {},
   "outputs": [
    {
     "name": "stdout",
     "output_type": "stream",
     "text": [
      "set() <class 'set'>\n",
      "{1, 2, 3}\n",
      "{'a', 'b', '1', '22'}\n",
      "{1, 2, 3, 5, 6, 7} <class 'set'>\n"
     ]
    }
   ],
   "source": [
    "x=set()\n",
    "print(x,type(x))\n",
    "y={1,2,3}\n",
    "z={\"a\",\"b\",\"1\",\"22\"}\n",
    "print(y)\n",
    "print(z)\n",
    "q={1,3,5,6,7,2,3,1,3}\n",
    "print(q,type(q))"
   ]
  },
  {
   "cell_type": "code",
   "execution_count": 3,
   "metadata": {},
   "outputs": [
    {
     "name": "stdout",
     "output_type": "stream",
     "text": [
      "1\n",
      "2\n",
      "3\n",
      "5\n",
      "6\n",
      "7\n"
     ]
    }
   ],
   "source": [
    "for i in q:\n",
    "    print(i)"
   ]
  },
  {
   "cell_type": "code",
   "execution_count": 4,
   "metadata": {},
   "outputs": [
    {
     "name": "stdout",
     "output_type": "stream",
     "text": [
      "{'glory', 'stars', 'light of life', 'firelight', 'it starts with us', 'it ends with us'}\n"
     ]
    }
   ],
   "source": [
    "books=set()\n",
    "books.add(\"it ends with us\")\n",
    "books.add(\"it starts with us\")\n",
    "books.add(\"glory\")\n",
    "books.update([\"firelight\",\"stars\",\"light of life\"])\n",
    "print(books)"
   ]
  },
  {
   "cell_type": "code",
   "execution_count": 5,
   "metadata": {},
   "outputs": [],
   "source": [
    "books.discard(\"firelight\")"
   ]
  },
  {
   "cell_type": "code",
   "execution_count": 6,
   "metadata": {},
   "outputs": [
    {
     "data": {
      "text/plain": [
       "'glory'"
      ]
     },
     "execution_count": 6,
     "metadata": {},
     "output_type": "execute_result"
    }
   ],
   "source": [
    "books.pop()"
   ]
  },
  {
   "cell_type": "markdown",
   "metadata": {},
   "source": [
    "### set operations"
   ]
  },
  {
   "cell_type": "markdown",
   "metadata": {},
   "source": []
  },
  {
   "cell_type": "code",
   "execution_count": 7,
   "metadata": {},
   "outputs": [],
   "source": [
    "a={1,3,4,5,6,6}\n",
    "b={1,2,4,5,8,9,44}\n",
    "c={9,66,55,443,3}\n",
    "d={4444,55,3222}\n"
   ]
  },
  {
   "cell_type": "code",
   "execution_count": 9,
   "metadata": {},
   "outputs": [
    {
     "name": "stdout",
     "output_type": "stream",
     "text": [
      "union\n",
      "{1, 2, 3, 4, 5, 6, 8, 9, 44}\n",
      "intersection\n",
      "{55}\n",
      "difference\n",
      "{3, 6}\n"
     ]
    }
   ],
   "source": [
    "print(\"union\")\n",
    "print(a.union(b))\n",
    " \n",
    "print(\"intersection\")\n",
    "print(c.intersection(d))\n",
    "\n",
    "print(\"difference\")\n",
    "print(a.difference(b))\n",
    "\n"
   ]
  },
  {
   "cell_type": "code",
   "execution_count": 10,
   "metadata": {},
   "outputs": [
    {
     "name": "stdout",
     "output_type": "stream",
     "text": [
      "{1, 3, 4, 5, 6}\n",
      "{1, 2, 4, 5, 8, 9, 44}\n",
      "joined False\n",
      "disjoint True\n",
      "subset False\n",
      "superset False\n"
     ]
    }
   ],
   "source": [
    "print(a)\n",
    "print(b)\n",
    "\n",
    "print(\"joined\",a.isdisjoint(b))\n",
    "\n",
    "print(\"disjoint\",a.isdisjoint({11,12}))\n",
    "\n",
    "print(\"subset\",c.issubset(a))\n",
    "print(\"superset\",d.issuperset(c))"
   ]
  },
  {
   "cell_type": "code",
   "execution_count": 12,
   "metadata": {},
   "outputs": [
    {
     "name": "stdout",
     "output_type": "stream",
     "text": [
      "\n",
      "=> 66666\n",
      "=> 4\n",
      "=> 5\n",
      "=> 66\n"
     ]
    }
   ],
   "source": [
    "# wap that allows users to enter data as much as they want and then remove dupilcate and print unique data\n",
    "data=set()\n",
    "while True:\n",
    "     a=input(\"enter the data\")\n",
    "     if not a:\n",
    "          break\n",
    "     data.add(a)\n",
    "print(a)\n",
    "\n",
    "for i in data:\n",
    "     print(\"=>\",i)\n",
    "     \n"
   ]
  },
  {
   "cell_type": "code",
   "execution_count": null,
   "metadata": {},
   "outputs": [],
   "source": []
  }
 ],
 "metadata": {
  "kernelspec": {
   "display_name": "base",
   "language": "python",
   "name": "python3"
  },
  "language_info": {
   "codemirror_mode": {
    "name": "ipython",
    "version": 3
   },
   "file_extension": ".py",
   "mimetype": "text/x-python",
   "name": "python",
   "nbconvert_exporter": "python",
   "pygments_lexer": "ipython3",
   "version": "3.12.4"
  }
 },
 "nbformat": 4,
 "nbformat_minor": 2
}
