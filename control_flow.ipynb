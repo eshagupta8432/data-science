{
 "cells": [
  {
   "cell_type": "markdown",
   "metadata": {},
   "source": [
    "# control flow\n",
    "### conditions\n",
    "- if\n",
    "- if else\n",
    "- if elif\n",
    "- match case\n",
    "- nested if\n",
    "\n",
    "### loops\n",
    "- for loop\n",
    "- while"
   ]
  },
  {
   "cell_type": "code",
   "execution_count": 4,
   "metadata": {},
   "outputs": [
    {
     "name": "stdout",
     "output_type": "stream",
     "text": [
      "😁\n"
     ]
    }
   ],
   "source": [
    "a=46\n",
    "if a>=4:\n",
    "    print(\"😁\")\n",
    "\n",
    "else:\n",
    "    print(\"😒\")"
   ]
  },
  {
   "cell_type": "code",
   "execution_count": 3,
   "metadata": {},
   "outputs": [
    {
     "name": "stdout",
     "output_type": "stream",
     "text": [
      "name exits\n"
     ]
    }
   ],
   "source": [
    "name=\"esha\"\n",
    "if name:\n",
    "    print(\"name exits\")"
   ]
  },
  {
   "cell_type": "code",
   "execution_count": 5,
   "metadata": {},
   "outputs": [
    {
     "name": "stdout",
     "output_type": "stream",
     "text": [
      "👌\n"
     ]
    }
   ],
   "source": [
    "a=\"apple\"\n",
    "if len(a):\n",
    "    print(\"👌\")\n",
    "else:\n",
    "    print(\"😒\")"
   ]
  },
  {
   "cell_type": "code",
   "execution_count": 1,
   "metadata": {},
   "outputs": [
    {
     "name": "stdout",
     "output_type": "stream",
     "text": [
      "c is biggest\n"
     ]
    }
   ],
   "source": [
    "a=15\n",
    "b=5\n",
    "c=66\n",
    "if a > b and a > c:\n",
    "    print(\"a is biggest\")\n",
    "elif b>a and b>c:\n",
    "    print(\"b is biggest\")\n",
    "else:\n",
    "    print(\"c is biggest\")"
   ]
  },
  {
   "cell_type": "code",
   "execution_count": 7,
   "metadata": {},
   "outputs": [
    {
     "name": "stdout",
     "output_type": "stream",
     "text": [
      "grade=D\n",
      "student marks = 55\n"
     ]
    }
   ],
   "source": [
    "marks= int(input(\"enter\"))\n",
    "if marks>=90:\n",
    "    print(\" garde=A\")\n",
    "elif marks>=80:\n",
    "    print(\"garde=B\")\n",
    "elif marks>=70:\n",
    "    print(\"grade=C\")\n",
    "elif marks>=50:\n",
    "    print(\"grade=D\")\n",
    "else:\n",
    "    print(\"grade=E\")\n",
    "print(f'student marks = {marks}')"
   ]
  },
  {
   "cell_type": "markdown",
   "metadata": {},
   "source": [
    "# match case"
   ]
  },
  {
   "cell_type": "code",
   "execution_count": 10,
   "metadata": {},
   "outputs": [
    {
     "name": "stdout",
     "output_type": "stream",
     "text": [
      "no no😒\n"
     ]
    }
   ],
   "source": [
    "ans= input(\"what is the capital of India ?\")\n",
    "match ans:\n",
    "    case \"lucknow\":\n",
    "        print(\"bail\")\n",
    "    case \"delhi\":\n",
    "        print(\"nice\")\n",
    "    case \"kolkata\":\n",
    "        print(\"wrong\")\n",
    "    case _:\n",
    "        print(\"no no😒\")\n",
    "        "
   ]
  },
  {
   "cell_type": "code",
   "execution_count": 12,
   "metadata": {},
   "outputs": [
    {
     "name": "stdout",
     "output_type": "stream",
     "text": [
      "tea stall\n",
      "1 - chai 10rs\n",
      "2 - bun 25rs\n",
      "3 - cutting 15rs\n",
      "4 - burger 20rs\n",
      "5 - samosa 10rs\n",
      "------------------\n",
      "cutting\n"
     ]
    }
   ],
   "source": [
    "print(\"tea stall\")\n",
    "print(\"1 - chai 10rs\")\n",
    "print(\"2 - bun 25rs\")\n",
    "print(\"3 - cutting 15rs\")\n",
    "print(\"4 - burger 20rs\")\n",
    "print(\"5 - samosa 10rs\")\n",
    "\n",
    "choice=int(input(\"enter\"))\n",
    "print(\"------------------\")\n",
    "match choice:\n",
    "    case 1:\n",
    "        print(\"chai\")\n",
    "    case 2:\n",
    "        print(\"bun\")\n",
    "    case 3:\n",
    "        print(\"cutting\")\n",
    "    case 4:\n",
    "        print(\"burger\")\n",
    "    case 5:\n",
    "        print(\"samosa\")\n",
    "    case _:\n",
    "        print(\"invalid\")"
   ]
  },
  {
   "cell_type": "code",
   "execution_count": null,
   "metadata": {},
   "outputs": [],
   "source": []
  }
 ],
 "metadata": {
  "kernelspec": {
   "display_name": "base",
   "language": "python",
   "name": "python3"
  },
  "language_info": {
   "codemirror_mode": {
    "name": "ipython",
    "version": 3
   },
   "file_extension": ".py",
   "mimetype": "text/x-python",
   "name": "python",
   "nbconvert_exporter": "python",
   "pygments_lexer": "ipython3",
   "version": "3.12.4"
  }
 },
 "nbformat": 4,
 "nbformat_minor": 2
}
