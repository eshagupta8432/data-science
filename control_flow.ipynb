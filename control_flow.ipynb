{
 "cells": [
  {
   "cell_type": "markdown",
   "metadata": {},
   "source": [
    "# control flow\n",
    "### conditions\n",
    "- if\n",
    "- if else\n",
    "- if elif\n",
    "- match case\n",
    "- nested if\n",
    "\n",
    "### loops\n",
    "- for loop\n",
    "- while"
   ]
  },
  {
   "cell_type": "code",
   "execution_count": 4,
   "metadata": {},
   "outputs": [
    {
     "name": "stdout",
     "output_type": "stream",
     "text": [
      "😁\n"
     ]
    }
   ],
   "source": [
    "a=46\n",
    "if a>=4:\n",
    "    print(\"😁\")\n",
    "\n",
    "else:\n",
    "    print(\"😒\")"
   ]
  },
  {
   "cell_type": "code",
   "execution_count": 3,
   "metadata": {},
   "outputs": [
    {
     "name": "stdout",
     "output_type": "stream",
     "text": [
      "name exits\n"
     ]
    }
   ],
   "source": [
    "name=\"esha\"\n",
    "if name:\n",
    "    print(\"name exits\")"
   ]
  },
  {
   "cell_type": "code",
   "execution_count": 5,
   "metadata": {},
   "outputs": [
    {
     "name": "stdout",
     "output_type": "stream",
     "text": [
      "👌\n"
     ]
    }
   ],
   "source": [
    "a=\"apple\"\n",
    "if len(a):\n",
    "    print(\"👌\")\n",
    "else:\n",
    "    print(\"😒\")"
   ]
  },
  {
   "cell_type": "code",
   "execution_count": 1,
   "metadata": {},
   "outputs": [
    {
     "name": "stdout",
     "output_type": "stream",
     "text": [
      "c is biggest\n"
     ]
    }
   ],
   "source": [
    "a=15\n",
    "b=5\n",
    "c=66\n",
    "if a > b and a > c:\n",
    "    print(\"a is biggest\")\n",
    "elif b>a and b>c:\n",
    "    print(\"b is biggest\")\n",
    "else:\n",
    "    print(\"c is biggest\")"
   ]
  },
  {
   "cell_type": "code",
   "execution_count": 7,
   "metadata": {},
   "outputs": [
    {
     "name": "stdout",
     "output_type": "stream",
     "text": [
      "grade=D\n",
      "student marks = 55\n"
     ]
    }
   ],
   "source": [
    "marks= int(input(\"enter\"))\n",
    "if marks>=90:\n",
    "    print(\" garde=A\")\n",
    "elif marks>=80:\n",
    "    print(\"garde=B\")\n",
    "elif marks>=70:\n",
    "    print(\"grade=C\")\n",
    "elif marks>=50:\n",
    "    print(\"grade=D\")\n",
    "else:\n",
    "    print(\"grade=E\")\n",
    "print(f'student marks = {marks}')"
   ]
  },
  {
   "cell_type": "markdown",
   "metadata": {},
   "source": [
    "# match case"
   ]
  },
  {
   "cell_type": "code",
   "execution_count": 10,
   "metadata": {},
   "outputs": [
    {
     "name": "stdout",
     "output_type": "stream",
     "text": [
      "no no😒\n"
     ]
    }
   ],
   "source": [
    "ans= input(\"what is the capital of India ?\")\n",
    "match ans:\n",
    "    case \"lucknow\":\n",
    "        print(\"bail\")\n",
    "    case \"delhi\":\n",
    "        print(\"nice\")\n",
    "    case \"kolkata\":\n",
    "        print(\"wrong\")\n",
    "    case _:\n",
    "        print(\"no no😒\")\n",
    "        "
   ]
  },
  {
   "cell_type": "code",
   "execution_count": 12,
   "metadata": {},
   "outputs": [
    {
     "name": "stdout",
     "output_type": "stream",
     "text": [
      "tea stall\n",
      "1 - chai 10rs\n",
      "2 - bun 25rs\n",
      "3 - cutting 15rs\n",
      "4 - burger 20rs\n",
      "5 - samosa 10rs\n",
      "------------------\n",
      "cutting\n"
     ]
    }
   ],
   "source": [
    "print(\"tea stall\")\n",
    "print(\"1 - chai 10rs\")\n",
    "print(\"2 - bun 25rs\")\n",
    "print(\"3 - cutting 15rs\")\n",
    "print(\"4 - burger 20rs\")\n",
    "print(\"5 - samosa 10rs\")\n",
    "\n",
    "choice=int(input(\"enter\"))\n",
    "print(\"------------------\")\n",
    "match choice:\n",
    "    case 1:\n",
    "        print(\"chai\")\n",
    "    case 2:\n",
    "        print(\"bun\")\n",
    "    case 3:\n",
    "        print(\"cutting\")\n",
    "    case 4:\n",
    "        print(\"burger\")\n",
    "    case 5:\n",
    "        print(\"samosa\")\n",
    "    case _:\n",
    "        print(\"invalid\")"
   ]
  },
  {
   "cell_type": "markdown",
   "metadata": {},
   "source": [
    "### loops\n",
    "- step based loop (for loop)\n",
    "- condition based loop (while loop)"
   ]
  },
  {
   "cell_type": "code",
   "execution_count": 1,
   "metadata": {},
   "outputs": [
    {
     "name": "stdout",
     "output_type": "stream",
     "text": [
      "10\n",
      "33\n",
      "2\n",
      "232\n",
      "44\n",
      "43\n"
     ]
    }
   ],
   "source": [
    "num=[10,33,2,232,44,43]\n",
    "for i in num:\n",
    "    print(i)"
   ]
  },
  {
   "cell_type": "markdown",
   "metadata": {},
   "source": [
    "## iterable\n",
    "- list\n",
    "- tuple\n",
    "- dict\n",
    "- string\n",
    "- range\n",
    "- generator"
   ]
  },
  {
   "cell_type": "code",
   "execution_count": 2,
   "metadata": {},
   "outputs": [
    {
     "name": "stdout",
     "output_type": "stream",
     "text": [
      "33\n",
      "43\n",
      "12\n",
      "111\n",
      "3343\n"
     ]
    }
   ],
   "source": [
    "for i in {12,33,111,3343,43}:\n",
    "    print(i)"
   ]
  },
  {
   "cell_type": "code",
   "execution_count": 3,
   "metadata": {},
   "outputs": [
    {
     "name": "stdout",
     "output_type": "stream",
     "text": [
      "0 1 2 3 4 5 6 7 8 9 "
     ]
    }
   ],
   "source": [
    "for i in range(10):\n",
    "    print(i,end=\" \")"
   ]
  },
  {
   "cell_type": "code",
   "execution_count": 4,
   "metadata": {},
   "outputs": [
    {
     "name": "stdout",
     "output_type": "stream",
     "text": [
      "23\n",
      "25\n",
      "27\n",
      "29\n",
      "31\n",
      "33\n"
     ]
    }
   ],
   "source": [
    "for c in range (23,34,2):\n",
    "    print(c)"
   ]
  },
  {
   "cell_type": "code",
   "execution_count": 5,
   "metadata": {},
   "outputs": [
    {
     "name": "stdout",
     "output_type": "stream",
     "text": [
      "-5\n",
      "-4\n",
      "-3\n",
      "-2\n",
      "-1\n",
      "0\n",
      "1\n",
      "2\n",
      "3\n",
      "4\n",
      "5\n"
     ]
    }
   ],
   "source": [
    "for i in range(-5,6,1):\n",
    "    print(i)"
   ]
  },
  {
   "cell_type": "code",
   "execution_count": 6,
   "metadata": {},
   "outputs": [
    {
     "name": "stdout",
     "output_type": "stream",
     "text": [
      "5050\n"
     ]
    }
   ],
   "source": [
    "\n",
    "s=0\n",
    "for i in range(1,101,1):\n",
    "    s=s+i\n",
    "print(s)"
   ]
  },
  {
   "cell_type": "code",
   "execution_count": 7,
   "metadata": {},
   "outputs": [
    {
     "data": {
      "text/plain": [
       "5050"
      ]
     },
     "execution_count": 7,
     "metadata": {},
     "output_type": "execute_result"
    }
   ],
   "source": [
    "sum(list(range(1,101)))"
   ]
  },
  {
   "cell_type": "markdown",
   "metadata": {},
   "source": [
    "### find the largest word in the list"
   ]
  },
  {
   "cell_type": "code",
   "execution_count": 13,
   "metadata": {},
   "outputs": [
    {
     "name": "stdout",
     "output_type": "stream",
     "text": [
      "sachin\n"
     ]
    }
   ],
   "source": [
    "word=[\"esha\",\"sachin\",\"stupid\",\"bail\"]\n",
    "\n",
    "for item in word:\n",
    "    if len(item)>len(word):\n",
    "        word=item\n",
    "print(word)"
   ]
  },
  {
   "cell_type": "code",
   "execution_count": 14,
   "metadata": {},
   "outputs": [
    {
     "name": "stdout",
     "output_type": "stream",
     "text": [
      "1\n",
      "22\n",
      "43\n",
      "hello!!!\n"
     ]
    }
   ],
   "source": [
    "data=[1,22,43,4,34,54,21,44]\n",
    "for i in data:\n",
    "    if i==4:\n",
    "        print(\"hello!!!\")\n",
    "        break\n",
    "    print(i)"
   ]
  },
  {
   "cell_type": "code",
   "execution_count": 15,
   "metadata": {},
   "outputs": [
    {
     "name": "stdout",
     "output_type": "stream",
     "text": [
      "1\n",
      "22\n",
      "43\n",
      "hello!!!\n",
      "34\n",
      "54\n",
      "21\n",
      "44\n"
     ]
    }
   ],
   "source": [
    "data=[1,22,43,4,34,54,21,44]\n",
    "for i in data:\n",
    "    if i==4:\n",
    "        print(\"hello!!!\")\n",
    "        continue\n",
    "    print(i)"
   ]
  },
  {
   "cell_type": "code",
   "execution_count": 16,
   "metadata": {},
   "outputs": [
    {
     "name": "stdout",
     "output_type": "stream",
     "text": [
      "1\n",
      "484\n",
      "1849\n",
      "hello!!!\n",
      "1156\n",
      "2916\n",
      "441\n",
      "1936\n"
     ]
    }
   ],
   "source": [
    "data=[1,22,43,4,34,54,21,44]\n",
    "for i in data:\n",
    "    if i==4:\n",
    "        print(\"hello!!!\")\n",
    "        continue\n",
    "    print(i**2)"
   ]
  },
  {
   "cell_type": "code",
   "execution_count": 18,
   "metadata": {},
   "outputs": [
    {
     "name": "stdout",
     "output_type": "stream",
     "text": [
      "0 ywr\n",
      "1 gdegf\n",
      "2 fhef\n",
      "3 yfuegryrgy\n"
     ]
    }
   ],
   "source": [
    "# enumerate(), zip()\n",
    "\n",
    "w=[\"ywr\",\"gdegf\",\"fhef\",\"yfuegryrgy\"]\n",
    "for idx,name in enumerate(w):\n",
    "    print(idx,name)"
   ]
  },
  {
   "cell_type": "code",
   "execution_count": 20,
   "metadata": {},
   "outputs": [
    {
     "name": "stdout",
     "output_type": "stream",
     "text": [
      "2550\n",
      "30\n",
      "102\n",
      "170\n",
      "433356\n",
      "298181520\n"
     ]
    }
   ],
   "source": [
    "x=[34,5,34,5,66,656]\n",
    "y=[75,6,3,34,6566,454545,4544656666666]\n",
    "for i ,j in zip(x,y):\n",
    "    print(i*j)"
   ]
  },
  {
   "cell_type": "code",
   "execution_count": 23,
   "metadata": {},
   "outputs": [
    {
     "name": "stdout",
     "output_type": "stream",
     "text": [
      "7\n"
     ]
    }
   ],
   "source": [
    "count=0\n",
    "sen=\"this is a very good day\"\n",
    "for ch in sen:\n",
    "    if ch==\"a\" or ch==\"e\" or ch==\"i\" or ch==\"o\" or ch==\"u\":\n",
    "        count=count+1\n",
    "print(count)\n"
   ]
  },
  {
   "cell_type": "code",
   "execution_count": null,
   "metadata": {},
   "outputs": [],
   "source": []
  }
 ],
 "metadata": {
  "kernelspec": {
   "display_name": "base",
   "language": "python",
   "name": "python3"
  },
  "language_info": {
   "codemirror_mode": {
    "name": "ipython",
    "version": 3
   },
   "file_extension": ".py",
   "mimetype": "text/x-python",
   "name": "python",
   "nbconvert_exporter": "python",
   "pygments_lexer": "ipython3",
   "version": "3.12.4"
  }
 },
 "nbformat": 4,
 "nbformat_minor": 2
}
